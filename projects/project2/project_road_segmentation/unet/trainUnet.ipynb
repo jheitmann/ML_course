{
 "cells": [
  {
   "cell_type": "code",
   "execution_count": 1,
   "metadata": {},
   "outputs": [
    {
     "name": "stderr",
     "output_type": "stream",
     "text": [
      "/home/julien/anaconda3/lib/python3.6/site-packages/h5py/__init__.py:36: FutureWarning: Conversion of the second argument of issubdtype from `float` to `np.floating` is deprecated. In future, it will be treated as `np.float64 == np.dtype(float).type`.\n",
      "  from ._conv import register_converters as _register_converters\n",
      "Using TensorFlow backend.\n"
     ]
    }
   ],
   "source": [
    "import glob\n",
    "import numpy as np\n",
    "from keras.preprocessing.image import img_to_array, load_img\n",
    "from model import *\n",
    "from data import *"
   ]
  },
  {
   "cell_type": "markdown",
   "metadata": {},
   "source": [
    "## Train your Unet with membrane data\n",
    "membrane data is in folder membrane/, it is a binary classification task.\n",
    "\n",
    "The input shape of image and mask are the same :(batch_size,rows,cols,channel = 1)"
   ]
  },
  {
   "cell_type": "markdown",
   "metadata": {},
   "source": [
    "### Train with data generator"
   ]
  },
  {
   "cell_type": "code",
   "execution_count": null,
   "metadata": {},
   "outputs": [],
   "source": [
    "data_gen_args = dict(rotation_range=0.2,\n",
    "                    width_shift_range=0.05,\n",
    "                    height_shift_range=0.05,\n",
    "                    shear_range=0.05,\n",
    "                    zoom_range=0.05,\n",
    "                    horizontal_flip=True,\n",
    "                    fill_mode='nearest')\n",
    "myGene = trainGenerator(2,'data/membrane/train','image','label',data_gen_args,save_to_dir = None)\n",
    "model = unet()\n",
    "model_checkpoint = ModelCheckpoint('unet_membrane.hdf5', monitor='loss',verbose=1, save_best_only=True)\n",
    "model.fit_generator(myGene,steps_per_epoch=2000,epochs=5,callbacks=[model_checkpoint])"
   ]
  },
  {
   "cell_type": "markdown",
   "metadata": {},
   "source": [
    "### Train with npy file"
   ]
  },
  {
   "cell_type": "code",
   "execution_count": null,
   "metadata": {},
   "outputs": [],
   "source": [
    "#imgs_train,imgs_mask_train = geneTrainNpy(\"data/membrane/train/aug/\",\"data/membrane/train/aug/\")\n",
    "#model.fit(imgs_train, imgs_mask_train, batch_size=2, nb_epoch=10, verbose=1,validation_split=0.2, shuffle=True, callbacks=[model_checkpoint])"
   ]
  },
  {
   "cell_type": "markdown",
   "metadata": {},
   "source": [
    "### test your model and save predicted results"
   ]
  },
  {
   "cell_type": "code",
   "execution_count": 5,
   "metadata": {},
   "outputs": [
    {
     "name": "stderr",
     "output_type": "stream",
     "text": [
      "/home/julien/Documents/Epfl/Courses/ML_course/projects/project2/project_road_segmentation/unet/model.py:55: UserWarning: Update your `Model` call to the Keras 2 API: `Model(inputs=Tensor(\"in..., outputs=Tensor(\"co...)`\n",
      "  model = Model(input = inputs, output = conv10)\n",
      "/home/julien/anaconda3/lib/python3.6/site-packages/skimage/transform/_warps.py:84: UserWarning: The default mode, 'constant', will be changed to 'reflect' in skimage 0.15.\n",
      "  warn(\"The default mode, 'constant', will be changed to 'reflect' in \"\n"
     ]
    },
    {
     "name": "stdout",
     "output_type": "stream",
     "text": [
      "20/20 [==============================] - 43s 2s/step\n"
     ]
    },
    {
     "name": "stderr",
     "output_type": "stream",
     "text": [
      "/home/julien/anaconda3/lib/python3.6/site-packages/skimage/util/dtype.py:122: UserWarning: Possible precision loss when converting from float32 to uint16\n",
      "  .format(dtypeobj_in, dtypeobj_out))\n"
     ]
    }
   ],
   "source": [
    "testGene = testGenerator(\"data/test/image\")\n",
    "model = unet(\"results/essai1.hdf5\")\n",
    "# model.load_weights(\"unet_membrane.hdf5\")\n",
    "results = model.predict_generator(testGene,20,verbose=1)\n",
    "saveResult(\"data/test/label\",results)"
   ]
  },
  {
   "cell_type": "code",
   "execution_count": 4,
   "metadata": {},
   "outputs": [
    {
     "name": "stderr",
     "output_type": "stream",
     "text": [
      "/home/julien/anaconda3/lib/python3.6/site-packages/skimage/io/_io.py:132: UserWarning: data/test/label/0_predict.png is a low contrast image\n",
      "  warn('%s is a low contrast image' % fname)\n",
      "/home/julien/anaconda3/lib/python3.6/site-packages/skimage/util/dtype.py:122: UserWarning: Possible precision loss when converting from float32 to uint16\n",
      "  .format(dtypeobj_in, dtypeobj_out))\n",
      "/home/julien/anaconda3/lib/python3.6/site-packages/skimage/io/_io.py:132: UserWarning: data/test/label/1_predict.png is a low contrast image\n",
      "  warn('%s is a low contrast image' % fname)\n",
      "/home/julien/anaconda3/lib/python3.6/site-packages/skimage/io/_io.py:132: UserWarning: data/test/label/2_predict.png is a low contrast image\n",
      "  warn('%s is a low contrast image' % fname)\n",
      "/home/julien/anaconda3/lib/python3.6/site-packages/skimage/io/_io.py:132: UserWarning: data/test/label/3_predict.png is a low contrast image\n",
      "  warn('%s is a low contrast image' % fname)\n",
      "/home/julien/anaconda3/lib/python3.6/site-packages/skimage/io/_io.py:132: UserWarning: data/test/label/4_predict.png is a low contrast image\n",
      "  warn('%s is a low contrast image' % fname)\n",
      "/home/julien/anaconda3/lib/python3.6/site-packages/skimage/io/_io.py:132: UserWarning: data/test/label/5_predict.png is a low contrast image\n",
      "  warn('%s is a low contrast image' % fname)\n",
      "/home/julien/anaconda3/lib/python3.6/site-packages/skimage/io/_io.py:132: UserWarning: data/test/label/6_predict.png is a low contrast image\n",
      "  warn('%s is a low contrast image' % fname)\n",
      "/home/julien/anaconda3/lib/python3.6/site-packages/skimage/io/_io.py:132: UserWarning: data/test/label/7_predict.png is a low contrast image\n",
      "  warn('%s is a low contrast image' % fname)\n",
      "/home/julien/anaconda3/lib/python3.6/site-packages/skimage/io/_io.py:132: UserWarning: data/test/label/8_predict.png is a low contrast image\n",
      "  warn('%s is a low contrast image' % fname)\n",
      "/home/julien/anaconda3/lib/python3.6/site-packages/skimage/io/_io.py:132: UserWarning: data/test/label/9_predict.png is a low contrast image\n",
      "  warn('%s is a low contrast image' % fname)\n",
      "/home/julien/anaconda3/lib/python3.6/site-packages/skimage/io/_io.py:132: UserWarning: data/test/label/10_predict.png is a low contrast image\n",
      "  warn('%s is a low contrast image' % fname)\n",
      "/home/julien/anaconda3/lib/python3.6/site-packages/skimage/io/_io.py:132: UserWarning: data/test/label/11_predict.png is a low contrast image\n",
      "  warn('%s is a low contrast image' % fname)\n",
      "/home/julien/anaconda3/lib/python3.6/site-packages/skimage/io/_io.py:132: UserWarning: data/test/label/12_predict.png is a low contrast image\n",
      "  warn('%s is a low contrast image' % fname)\n",
      "/home/julien/anaconda3/lib/python3.6/site-packages/skimage/io/_io.py:132: UserWarning: data/test/label/13_predict.png is a low contrast image\n",
      "  warn('%s is a low contrast image' % fname)\n",
      "/home/julien/anaconda3/lib/python3.6/site-packages/skimage/io/_io.py:132: UserWarning: data/test/label/14_predict.png is a low contrast image\n",
      "  warn('%s is a low contrast image' % fname)\n",
      "/home/julien/anaconda3/lib/python3.6/site-packages/skimage/io/_io.py:132: UserWarning: data/test/label/15_predict.png is a low contrast image\n",
      "  warn('%s is a low contrast image' % fname)\n",
      "/home/julien/anaconda3/lib/python3.6/site-packages/skimage/io/_io.py:132: UserWarning: data/test/label/16_predict.png is a low contrast image\n",
      "  warn('%s is a low contrast image' % fname)\n",
      "/home/julien/anaconda3/lib/python3.6/site-packages/skimage/io/_io.py:132: UserWarning: data/test/label/17_predict.png is a low contrast image\n",
      "  warn('%s is a low contrast image' % fname)\n",
      "/home/julien/anaconda3/lib/python3.6/site-packages/skimage/io/_io.py:132: UserWarning: data/test/label/18_predict.png is a low contrast image\n",
      "  warn('%s is a low contrast image' % fname)\n",
      "/home/julien/anaconda3/lib/python3.6/site-packages/skimage/io/_io.py:132: UserWarning: data/test/label/19_predict.png is a low contrast image\n",
      "  warn('%s is a low contrast image' % fname)\n",
      "/home/julien/anaconda3/lib/python3.6/site-packages/skimage/io/_io.py:132: UserWarning: data/test/label/20_predict.png is a low contrast image\n",
      "  warn('%s is a low contrast image' % fname)\n",
      "/home/julien/anaconda3/lib/python3.6/site-packages/skimage/io/_io.py:132: UserWarning: data/test/label/21_predict.png is a low contrast image\n",
      "  warn('%s is a low contrast image' % fname)\n",
      "/home/julien/anaconda3/lib/python3.6/site-packages/skimage/io/_io.py:132: UserWarning: data/test/label/22_predict.png is a low contrast image\n",
      "  warn('%s is a low contrast image' % fname)\n",
      "/home/julien/anaconda3/lib/python3.6/site-packages/skimage/io/_io.py:132: UserWarning: data/test/label/23_predict.png is a low contrast image\n",
      "  warn('%s is a low contrast image' % fname)\n",
      "/home/julien/anaconda3/lib/python3.6/site-packages/skimage/io/_io.py:132: UserWarning: data/test/label/24_predict.png is a low contrast image\n",
      "  warn('%s is a low contrast image' % fname)\n",
      "/home/julien/anaconda3/lib/python3.6/site-packages/skimage/io/_io.py:132: UserWarning: data/test/label/25_predict.png is a low contrast image\n",
      "  warn('%s is a low contrast image' % fname)\n",
      "/home/julien/anaconda3/lib/python3.6/site-packages/skimage/io/_io.py:132: UserWarning: data/test/label/26_predict.png is a low contrast image\n",
      "  warn('%s is a low contrast image' % fname)\n",
      "/home/julien/anaconda3/lib/python3.6/site-packages/skimage/io/_io.py:132: UserWarning: data/test/label/27_predict.png is a low contrast image\n",
      "  warn('%s is a low contrast image' % fname)\n",
      "/home/julien/anaconda3/lib/python3.6/site-packages/skimage/io/_io.py:132: UserWarning: data/test/label/28_predict.png is a low contrast image\n",
      "  warn('%s is a low contrast image' % fname)\n",
      "/home/julien/anaconda3/lib/python3.6/site-packages/skimage/io/_io.py:132: UserWarning: data/test/label/29_predict.png is a low contrast image\n",
      "  warn('%s is a low contrast image' % fname)\n",
      "/home/julien/anaconda3/lib/python3.6/site-packages/skimage/io/_io.py:132: UserWarning: data/test/label/30_predict.png is a low contrast image\n",
      "  warn('%s is a low contrast image' % fname)\n",
      "/home/julien/anaconda3/lib/python3.6/site-packages/skimage/io/_io.py:132: UserWarning: data/test/label/31_predict.png is a low contrast image\n",
      "  warn('%s is a low contrast image' % fname)\n",
      "/home/julien/anaconda3/lib/python3.6/site-packages/skimage/io/_io.py:132: UserWarning: data/test/label/32_predict.png is a low contrast image\n",
      "  warn('%s is a low contrast image' % fname)\n",
      "/home/julien/anaconda3/lib/python3.6/site-packages/skimage/io/_io.py:132: UserWarning: data/test/label/33_predict.png is a low contrast image\n",
      "  warn('%s is a low contrast image' % fname)\n",
      "/home/julien/anaconda3/lib/python3.6/site-packages/skimage/io/_io.py:132: UserWarning: data/test/label/34_predict.png is a low contrast image\n",
      "  warn('%s is a low contrast image' % fname)\n",
      "/home/julien/anaconda3/lib/python3.6/site-packages/skimage/io/_io.py:132: UserWarning: data/test/label/35_predict.png is a low contrast image\n",
      "  warn('%s is a low contrast image' % fname)\n",
      "/home/julien/anaconda3/lib/python3.6/site-packages/skimage/io/_io.py:132: UserWarning: data/test/label/36_predict.png is a low contrast image\n",
      "  warn('%s is a low contrast image' % fname)\n",
      "/home/julien/anaconda3/lib/python3.6/site-packages/skimage/io/_io.py:132: UserWarning: data/test/label/37_predict.png is a low contrast image\n",
      "  warn('%s is a low contrast image' % fname)\n",
      "/home/julien/anaconda3/lib/python3.6/site-packages/skimage/io/_io.py:132: UserWarning: data/test/label/38_predict.png is a low contrast image\n",
      "  warn('%s is a low contrast image' % fname)\n",
      "/home/julien/anaconda3/lib/python3.6/site-packages/skimage/io/_io.py:132: UserWarning: data/test/label/39_predict.png is a low contrast image\n",
      "  warn('%s is a low contrast image' % fname)\n",
      "/home/julien/anaconda3/lib/python3.6/site-packages/skimage/io/_io.py:132: UserWarning: data/test/label/40_predict.png is a low contrast image\n",
      "  warn('%s is a low contrast image' % fname)\n",
      "/home/julien/anaconda3/lib/python3.6/site-packages/skimage/io/_io.py:132: UserWarning: data/test/label/41_predict.png is a low contrast image\n",
      "  warn('%s is a low contrast image' % fname)\n",
      "/home/julien/anaconda3/lib/python3.6/site-packages/skimage/io/_io.py:132: UserWarning: data/test/label/42_predict.png is a low contrast image\n",
      "  warn('%s is a low contrast image' % fname)\n",
      "/home/julien/anaconda3/lib/python3.6/site-packages/skimage/io/_io.py:132: UserWarning: data/test/label/43_predict.png is a low contrast image\n",
      "  warn('%s is a low contrast image' % fname)\n",
      "/home/julien/anaconda3/lib/python3.6/site-packages/skimage/io/_io.py:132: UserWarning: data/test/label/44_predict.png is a low contrast image\n",
      "  warn('%s is a low contrast image' % fname)\n",
      "/home/julien/anaconda3/lib/python3.6/site-packages/skimage/io/_io.py:132: UserWarning: data/test/label/45_predict.png is a low contrast image\n",
      "  warn('%s is a low contrast image' % fname)\n",
      "/home/julien/anaconda3/lib/python3.6/site-packages/skimage/io/_io.py:132: UserWarning: data/test/label/46_predict.png is a low contrast image\n",
      "  warn('%s is a low contrast image' % fname)\n",
      "/home/julien/anaconda3/lib/python3.6/site-packages/skimage/io/_io.py:132: UserWarning: data/test/label/47_predict.png is a low contrast image\n",
      "  warn('%s is a low contrast image' % fname)\n",
      "/home/julien/anaconda3/lib/python3.6/site-packages/skimage/io/_io.py:132: UserWarning: data/test/label/48_predict.png is a low contrast image\n",
      "  warn('%s is a low contrast image' % fname)\n",
      "/home/julien/anaconda3/lib/python3.6/site-packages/skimage/io/_io.py:132: UserWarning: data/test/label/49_predict.png is a low contrast image\n",
      "  warn('%s is a low contrast image' % fname)\n"
     ]
    }
   ],
   "source": [
    "results[results > 0.5] = 1\n",
    "results[results <= 0.5] = 0\n",
    "saveResult(\"data/test/label\",results)"
   ]
  },
  {
   "cell_type": "code",
   "execution_count": null,
   "metadata": {},
   "outputs": [],
   "source": [
    "import skimage.io as io"
   ]
  },
  {
   "cell_type": "code",
   "execution_count": null,
   "metadata": {},
   "outputs": [],
   "source": [
    "img = io.imread(\"data/test/image/test_1.png\", as_grey=True)"
   ]
  },
  {
   "cell_type": "code",
   "execution_count": null,
   "metadata": {},
   "outputs": [],
   "source": [
    "img = io.imread(\"data/test/image/test_1.png\", as_grey=False)"
   ]
  },
  {
   "cell_type": "code",
   "execution_count": null,
   "metadata": {},
   "outputs": [],
   "source": [
    "img.shape"
   ]
  },
  {
   "cell_type": "code",
   "execution_count": null,
   "metadata": {},
   "outputs": [],
   "source": [
    "img.shape"
   ]
  },
  {
   "cell_type": "code",
   "execution_count": null,
   "metadata": {},
   "outputs": [],
   "source": [
    "img[0,0,:]"
   ]
  },
  {
   "cell_type": "code",
   "execution_count": null,
   "metadata": {},
   "outputs": [],
   "source": [
    "img[0,0,:]"
   ]
  },
  {
   "cell_type": "code",
   "execution_count": null,
   "metadata": {},
   "outputs": [],
   "source": []
  }
 ],
 "metadata": {
  "kernelspec": {
   "display_name": "Python 3",
   "language": "python",
   "name": "python3"
  },
  "language_info": {
   "codemirror_mode": {
    "name": "ipython",
    "version": 3
   },
   "file_extension": ".py",
   "mimetype": "text/x-python",
   "name": "python",
   "nbconvert_exporter": "python",
   "pygments_lexer": "ipython3",
   "version": "3.6.5"
  }
 },
 "nbformat": 4,
 "nbformat_minor": 2
}
