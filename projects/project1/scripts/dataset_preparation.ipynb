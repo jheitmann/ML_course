{
 "cells": [
  {
   "cell_type": "markdown",
   "metadata": {},
   "source": [
    "Préparation des Datasets\n",
    "=============\n",
    "\n",
    "Ce notebook prépare les datasets séparés, standardisés, relabelés, etc."
   ]
  },
  {
   "cell_type": "code",
   "execution_count": 1,
   "metadata": {},
   "outputs": [],
   "source": [
    "\"\"\" !!! Long run time (csv importation) !!! \"\"\"\n",
    "import proj1_helpers as _help\n",
    "\n",
    "yb, input_data, ids, featnames = _help.load_csv_data('all/train.csv')"
   ]
  },
  {
   "cell_type": "code",
   "execution_count": 2,
   "metadata": {},
   "outputs": [],
   "source": [
    "import numpy as np"
   ]
  },
  {
   "cell_type": "code",
   "execution_count": 3,
   "metadata": {},
   "outputs": [],
   "source": [
    "X, y = input_data, yb\n",
    "\n",
    "i, = np.where(featnames == 'PRI_jet_num')\n",
    "PRI_jet_num = np.squeeze(i)\n",
    "NULL, ONE, PLURAL = 0, 1, 2\n",
    "\n",
    "cond_null = X[:, PRI_jet_num] == 0.\n",
    "cond_one = X[:, PRI_jet_num] == 1.\n",
    "cond_plural = X[:, PRI_jet_num] >= 2.\n",
    "conditions = (cond_null, cond_one, cond_plural)\n",
    "\n",
    "dsets = [X[cond] for cond in conditions]\n",
    "ybs = [y[cond] for cond in conditions]"
   ]
  },
  {
   "cell_type": "markdown",
   "metadata": {},
   "source": [
    "# Imputation"
   ]
  },
  {
   "cell_type": "code",
   "execution_count": 7,
   "metadata": {},
   "outputs": [],
   "source": [
    "#For now, just remove any column with undefined -999 values\n",
    "\n",
    "clean_dsets = []\n",
    "\n",
    "for dset in dsets:\n",
    "    \n",
    "    no_undefined = np.all(dset != -999, axis = 0)\n",
    "    dset_no_undef = dset[:,no_undefined]\n",
    "    clean_dsets.append(dset_no_undef)"
   ]
  },
  {
   "cell_type": "code",
   "execution_count": 14,
   "metadata": {},
   "outputs": [],
   "source": [
    "test = np.array([[1,2,3],[1,4,5],[1,6,7]])"
   ]
  },
  {
   "cell_type": "code",
   "execution_count": 17,
   "metadata": {},
   "outputs": [
    {
     "data": {
      "text/plain": [
       "array([[False, False, False],\n",
       "       [False,  True,  True],\n",
       "       [False,  True,  True]])"
      ]
     },
     "execution_count": 17,
     "metadata": {},
     "output_type": "execute_result"
    }
   ],
   "source": [
    "test != test[0]"
   ]
  },
  {
   "cell_type": "code",
   "execution_count": 18,
   "metadata": {},
   "outputs": [
    {
     "data": {
      "text/plain": [
       "array([False,  True,  True])"
      ]
     },
     "execution_count": 18,
     "metadata": {},
     "output_type": "execute_result"
    }
   ],
   "source": [
    "np.any(test != test[0], axis = 0)"
   ]
  },
  {
   "cell_type": "markdown",
   "metadata": {},
   "source": [
    "# Standardization\n",
    "\n",
    "We standardize each ***dset*** in ***dsets***, check if ***(mean, norm) == (0, 1)*** and put the result in ***std_dsets***.\n",
    "\n",
    "After this cell, ***std_dsets*** contains the ***dsets*** NULL, ONE and PLURAL in standardized form."
   ]
  },
  {
   "cell_type": "code",
   "execution_count": 16,
   "metadata": {},
   "outputs": [
    {
     "name": "stdout",
     "output_type": "stream",
     "text": [
      "[5.26615051e-17 6.34213778e-16 3.18600328e-17 9.95626025e-19\n",
      " 6.22977427e-17 2.04103335e-16 2.90153870e-17 4.90701398e-17\n",
      " 9.61490275e-17 6.79159181e-18 9.60067952e-19 3.30014469e-16\n",
      " 1.89880106e-17 6.82714988e-18 2.13597340e-16 1.23742092e-17\n",
      " 9.73935601e-17            nan            nan]\n"
     ]
    },
    {
     "name": "stderr",
     "output_type": "stream",
     "text": [
      "/home/julien/anaconda3/lib/python3.6/site-packages/ipykernel_launcher.py:6: RuntimeWarning: invalid value encountered in true_divide\n",
      "  \n",
      "/home/julien/anaconda3/lib/python3.6/site-packages/ipykernel_launcher.py:10: RuntimeWarning: invalid value encountered in less\n",
      "  # Remove the CWD from sys.path while we load stuff.\n"
     ]
    },
    {
     "ename": "AssertionError",
     "evalue": "",
     "output_type": "error",
     "traceback": [
      "\u001b[0;31m---------------------------------------------------------------------------\u001b[0m",
      "\u001b[0;31mAssertionError\u001b[0m                            Traceback (most recent call last)",
      "\u001b[0;32m<ipython-input-16-0162cf9d2df3>\u001b[0m in \u001b[0;36m<module>\u001b[0;34m()\u001b[0m\n\u001b[1;32m      8\u001b[0m     \u001b[0;31m# Check new distributions are indeed N(0, 1²)\u001b[0m\u001b[0;34m\u001b[0m\u001b[0;34m\u001b[0m\u001b[0m\n\u001b[1;32m      9\u001b[0m     \u001b[0mprint\u001b[0m\u001b[0;34m(\u001b[0m\u001b[0mnp\u001b[0m\u001b[0;34m.\u001b[0m\u001b[0mabs\u001b[0m\u001b[0;34m(\u001b[0m\u001b[0mstd_dset\u001b[0m\u001b[0;34m.\u001b[0m\u001b[0mmean\u001b[0m\u001b[0;34m(\u001b[0m\u001b[0maxis\u001b[0m\u001b[0;34m=\u001b[0m\u001b[0;36m0\u001b[0m\u001b[0;34m)\u001b[0m\u001b[0;34m)\u001b[0m\u001b[0;34m)\u001b[0m\u001b[0;34m\u001b[0m\u001b[0m\n\u001b[0;32m---> 10\u001b[0;31m     \u001b[0;32massert\u001b[0m \u001b[0mnp\u001b[0m\u001b[0;34m.\u001b[0m\u001b[0mall\u001b[0m\u001b[0;34m(\u001b[0m\u001b[0mnp\u001b[0m\u001b[0;34m.\u001b[0m\u001b[0mabs\u001b[0m\u001b[0;34m(\u001b[0m\u001b[0mstd_dset\u001b[0m\u001b[0;34m.\u001b[0m\u001b[0mmean\u001b[0m\u001b[0;34m(\u001b[0m\u001b[0maxis\u001b[0m\u001b[0;34m=\u001b[0m\u001b[0;36m0\u001b[0m\u001b[0;34m)\u001b[0m\u001b[0;34m)\u001b[0m \u001b[0;34m<\u001b[0m \u001b[0;36m1e-5\u001b[0m\u001b[0;34m)\u001b[0m\u001b[0;34m\u001b[0m\u001b[0m\n\u001b[0m\u001b[1;32m     11\u001b[0m     \u001b[0;32massert\u001b[0m \u001b[0mnp\u001b[0m\u001b[0;34m.\u001b[0m\u001b[0mall\u001b[0m\u001b[0;34m(\u001b[0m\u001b[0mnp\u001b[0m\u001b[0;34m.\u001b[0m\u001b[0mabs\u001b[0m\u001b[0;34m(\u001b[0m\u001b[0mstd_dset\u001b[0m\u001b[0;34m.\u001b[0m\u001b[0mstd\u001b[0m\u001b[0;34m(\u001b[0m\u001b[0maxis\u001b[0m\u001b[0;34m=\u001b[0m\u001b[0;36m0\u001b[0m\u001b[0;34m)\u001b[0m \u001b[0;34m-\u001b[0m \u001b[0;36m1\u001b[0m\u001b[0;34m)\u001b[0m \u001b[0;34m<\u001b[0m \u001b[0;36m1e-5\u001b[0m\u001b[0;34m)\u001b[0m\u001b[0;31m#TODO understand why < EPSILON fails here\u001b[0m\u001b[0;34m\u001b[0m\u001b[0m\n\u001b[1;32m     12\u001b[0m \u001b[0;34m\u001b[0m\u001b[0m\n",
      "\u001b[0;31mAssertionError\u001b[0m: "
     ]
    }
   ],
   "source": [
    "std_dsets = []\n",
    "\n",
    "for dset in clean_dsets:\n",
    "    means = np.mean(dset, axis=0)\n",
    "    norms = np.std(dset, axis=0)\n",
    "    std_dset = ((dset - means) / norms)\n",
    "    \n",
    "    # Check new distributions are indeed N(0, 1²)\n",
    "    print(np.abs(std_dset.mean(axis=0)))\n",
    "    assert np.all(np.abs(std_dset.mean(axis=0)) < 1e-5)\n",
    "    assert np.all(np.abs(std_dset.std(axis=0) - 1) < 1e-5)#TODO understand why < EPSILON fails here\n",
    "    \n",
    "    std_dsets.append(std_dset)"
   ]
  },
  {
   "cell_type": "code",
   "execution_count": 12,
   "metadata": {},
   "outputs": [
    {
     "data": {
      "text/plain": [
       "(72543,)"
      ]
     },
     "execution_count": 12,
     "metadata": {},
     "output_type": "execute_result"
    }
   ],
   "source": [
    "means.shape"
   ]
  },
  {
   "cell_type": "code",
   "execution_count": 285,
   "metadata": {},
   "outputs": [
    {
     "name": "stdout",
     "output_type": "stream",
     "text": [
      "(4, 19) + (4,) = (4, 20)\n",
      "(2, 23) + (2,) = (2, 24)\n",
      "(4, 30) + (4,) = (4, 31)\n"
     ]
    }
   ],
   "source": [
    "# Adds yb's to newdatasets\n",
    "\n",
    "augmented_sets = []\n",
    "\n",
    "for yb, dset in zip(ybs, std_dsets):\n",
    "    aug = np.column_stack((yb, dset))\n",
    "    print(dset.shape, '+', yb.shape, '=', aug.shape)\n",
    "    augmented_sets.append(aug)"
   ]
  },
  {
   "cell_type": "code",
   "execution_count": 286,
   "metadata": {},
   "outputs": [],
   "source": [
    "# Saves .csv files with results\n",
    "\n",
    "keys = ('NULL', 'ONE', 'PLURAL')\n",
    "\n",
    "for key, dset in zip(keys, augmented_sets):\n",
    "    np.savetxt(f'{key}.csv', dset, delimiter=\",\")"
   ]
  }
 ],
 "metadata": {
  "kernelspec": {
   "display_name": "Python 3",
   "language": "python",
   "name": "python3"
  },
  "language_info": {
   "codemirror_mode": {
    "name": "ipython",
    "version": 3
   },
   "file_extension": ".py",
   "mimetype": "text/x-python",
   "name": "python",
   "nbconvert_exporter": "python",
   "pygments_lexer": "ipython3",
   "version": "3.6.5"
  }
 },
 "nbformat": 4,
 "nbformat_minor": 2
}
