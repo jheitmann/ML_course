{
 "cells": [
  {
   "cell_type": "code",
   "execution_count": 19,
   "metadata": {},
   "outputs": [],
   "source": [
    "%matplotlib inline\n",
    "from proj1_helpers import *\n",
    "import pandas as pd"
   ]
  },
  {
   "cell_type": "code",
   "execution_count": 102,
   "metadata": {},
   "outputs": [],
   "source": [
    "yb, input_data, ids = load_csv_data('all/test.csv')"
   ]
  },
  {
   "cell_type": "code",
   "execution_count": 103,
   "metadata": {},
   "outputs": [
    {
     "data": {
      "text/plain": [
       "array([-1.404, -1.204, -1.408, ..., -0.836,  1.41 , -1.346])"
      ]
     },
     "execution_count": 103,
     "metadata": {},
     "output_type": "execute_result"
    }
   ],
   "source": [
    "input_data[:,11]"
   ]
  },
  {
   "cell_type": "code",
   "execution_count": 109,
   "metadata": {},
   "outputs": [
    {
     "name": "stdout",
     "output_type": "stream",
     "text": [
      "568238\n"
     ]
    }
   ],
   "source": [
    "print(yb.size)"
   ]
  },
  {
   "cell_type": "code",
   "execution_count": 104,
   "metadata": {},
   "outputs": [],
   "source": [
    "df = pd.read_csv('all/test.csv', nrows=100)"
   ]
  },
  {
   "cell_type": "code",
   "execution_count": 105,
   "metadata": {},
   "outputs": [
    {
     "data": {
      "text/plain": [
       "<bound method NDFrame.head of         Id Prediction  DER_mass_MMC  DER_mass_transverse_met_lep  \\\n",
       "0   350000          ?      -999.000                       79.589   \n",
       "1   350001          ?       106.398                       67.490   \n",
       "2   350002          ?       117.794                       56.226   \n",
       "3   350003          ?       135.861                       30.604   \n",
       "4   350004          ?        74.159                       82.772   \n",
       "5   350005          ?        95.709                       94.168   \n",
       "6   350006          ?        85.798                       49.059   \n",
       "7   350007          ?       429.273                       75.057   \n",
       "8   350008          ?        70.958                       66.329   \n",
       "9   350009          ?       110.539                        2.820   \n",
       "10  350010          ?        89.921                       75.566   \n",
       "11  350011          ?       143.089                      105.195   \n",
       "12  350012          ?        96.033                       43.116   \n",
       "13  350013          ?        83.603                       68.288   \n",
       "14  350014          ?      -999.000                       79.311   \n",
       "15  350015          ?      -999.000                       73.115   \n",
       "16  350016          ?       149.232                       83.593   \n",
       "17  350017          ?        40.383                       76.439   \n",
       "18  350018          ?       175.897                       89.769   \n",
       "19  350019          ?       159.223                       36.814   \n",
       "20  350020          ?        75.145                       59.546   \n",
       "21  350021          ?        58.360                       55.522   \n",
       "22  350022          ?        80.256                       36.728   \n",
       "23  350023          ?       486.617                        0.626   \n",
       "24  350024          ?        70.330                       18.288   \n",
       "25  350025          ?       103.413                       23.534   \n",
       "26  350026          ?       140.991                        4.051   \n",
       "27  350027          ?       106.932                       80.385   \n",
       "28  350028          ?       128.683                       86.650   \n",
       "29  350029          ?       117.983                       85.147   \n",
       "..     ...        ...           ...                          ...   \n",
       "70  350070          ?       131.817                       56.771   \n",
       "71  350071          ?       325.980                      101.905   \n",
       "72  350072          ?        65.206                        4.119   \n",
       "73  350073          ?        87.308                       12.148   \n",
       "74  350074          ?      -999.000                      103.242   \n",
       "75  350075          ?       136.776                       54.603   \n",
       "76  350076          ?      -999.000                       65.482   \n",
       "77  350077          ?        96.719                       40.558   \n",
       "78  350078          ?       103.445                       18.408   \n",
       "79  350079          ?       122.730                        8.762   \n",
       "80  350080          ?       132.307                       78.772   \n",
       "81  350081          ?       117.578                       38.788   \n",
       "82  350082          ?      -999.000                       72.413   \n",
       "83  350083          ?       133.900                       19.000   \n",
       "84  350084          ?       157.618                       81.405   \n",
       "85  350085          ?       147.815                       20.427   \n",
       "86  350086          ?        96.425                      101.520   \n",
       "87  350087          ?       139.731                       53.961   \n",
       "88  350088          ?       123.537                       64.343   \n",
       "89  350089          ?        84.245                       16.175   \n",
       "90  350090          ?       416.792                       60.235   \n",
       "91  350091          ?        96.395                        3.375   \n",
       "92  350092          ?       167.623                       82.740   \n",
       "93  350093          ?       100.892                       56.616   \n",
       "94  350094          ?       158.073                       68.192   \n",
       "95  350095          ?        50.559                        0.168   \n",
       "96  350096          ?        95.010                       58.835   \n",
       "97  350097          ?        92.299                       33.049   \n",
       "98  350098          ?      -999.000                       75.397   \n",
       "99  350099          ?        94.060                      129.002   \n",
       "\n",
       "    DER_mass_vis  DER_pt_h  DER_deltaeta_jet_jet  DER_mass_jet_jet  \\\n",
       "0         23.916     3.036              -999.000          -999.000   \n",
       "1         87.949    49.994              -999.000          -999.000   \n",
       "2         96.358     4.137              -999.000          -999.000   \n",
       "3         97.288     9.104              -999.000          -999.000   \n",
       "4         58.731    89.646                 1.347           536.663   \n",
       "5         66.280    14.719              -999.000          -999.000   \n",
       "6         66.131    37.074              -999.000          -999.000   \n",
       "7        234.610    71.019                 0.590           174.261   \n",
       "8         60.950     0.758              -999.000          -999.000   \n",
       "9         62.136   179.753                 3.256           337.201   \n",
       "10        73.543    69.708              -999.000          -999.000   \n",
       "11       106.832    23.149              -999.000          -999.000   \n",
       "12        59.270     5.141              -999.000          -999.000   \n",
       "13        60.537    22.237                 2.838           195.098   \n",
       "14        15.349    17.677              -999.000          -999.000   \n",
       "15        45.672     3.563              -999.000          -999.000   \n",
       "16        83.268     1.604              -999.000          -999.000   \n",
       "17        34.996    59.543              -999.000          -999.000   \n",
       "18        99.229    34.115              -999.000          -999.000   \n",
       "19       110.668     1.374              -999.000          -999.000   \n",
       "20        64.215    72.765              -999.000          -999.000   \n",
       "21        48.010    53.475                 1.927            82.632   \n",
       "22        48.894    83.782                 1.205           285.153   \n",
       "23       240.284    93.605              -999.000          -999.000   \n",
       "24        49.186    60.346                 2.211           162.710   \n",
       "25        52.474   171.495                 0.975            84.789   \n",
       "26        93.500   110.986              -999.000          -999.000   \n",
       "27        73.001    40.427              -999.000          -999.000   \n",
       "28        81.667    37.521                 4.337           836.374   \n",
       "29        86.926    20.316              -999.000          -999.000   \n",
       "..           ...       ...                   ...               ...   \n",
       "70        94.639    14.266                 3.849           402.468   \n",
       "71       260.669    73.574                 0.586            87.810   \n",
       "72        42.107   164.894                 0.367           101.432   \n",
       "73        57.850    38.568              -999.000          -999.000   \n",
       "74       159.534    66.681              -999.000          -999.000   \n",
       "75        94.804    55.211              -999.000          -999.000   \n",
       "76        31.015     0.414              -999.000          -999.000   \n",
       "77        61.603     0.818              -999.000          -999.000   \n",
       "78        61.803   119.083                 1.545           241.452   \n",
       "79        72.297    86.279                 0.310            76.477   \n",
       "80        91.739     0.572              -999.000          -999.000   \n",
       "81        89.410    98.439                 4.979           703.023   \n",
       "82        67.535     4.038              -999.000          -999.000   \n",
       "83        66.497   120.377              -999.000          -999.000   \n",
       "84       132.243    15.392                 1.874           128.313   \n",
       "85        87.309    49.791                 2.568           358.760   \n",
       "86        83.211    43.459              -999.000          -999.000   \n",
       "87       105.222    31.841              -999.000          -999.000   \n",
       "88        67.029   121.912                 3.513           325.032   \n",
       "89        59.097     0.312              -999.000          -999.000   \n",
       "90       343.419    36.292              -999.000          -999.000   \n",
       "91        62.014    86.390                 4.379           430.498   \n",
       "92        98.136    44.306              -999.000          -999.000   \n",
       "93        73.012    19.523              -999.000          -999.000   \n",
       "94       108.843     5.070              -999.000          -999.000   \n",
       "95        39.137    98.494                 4.844           565.779   \n",
       "96        76.083     5.154              -999.000          -999.000   \n",
       "97        65.082    18.787                 1.679           120.556   \n",
       "98       133.410    27.106              -999.000          -999.000   \n",
       "99        86.738    75.573                 1.302           252.886   \n",
       "\n",
       "    DER_prodeta_jet_jet  DER_deltar_tau_lep       ...        PRI_met_phi  \\\n",
       "0              -999.000               0.903       ...              2.022   \n",
       "1              -999.000               2.048       ...             -1.138   \n",
       "2              -999.000               2.755       ...             -1.868   \n",
       "3              -999.000               2.811       ...              1.172   \n",
       "4                -0.339               1.028       ...             -0.231   \n",
       "5              -999.000               3.065       ...              2.566   \n",
       "6              -999.000               2.253       ...              3.060   \n",
       "7                 2.278               4.287       ...              1.722   \n",
       "8              -999.000               2.370       ...             -1.389   \n",
       "9                -2.059               1.092       ...             -0.794   \n",
       "10             -999.000               2.001       ...             -2.954   \n",
       "11             -999.000               2.611       ...              2.742   \n",
       "12             -999.000               3.131       ...             -0.412   \n",
       "13               -1.993               2.986       ...             -2.869   \n",
       "14             -999.000               0.551       ...              2.163   \n",
       "15             -999.000               1.774       ...              1.666   \n",
       "16             -999.000               3.137       ...             -2.876   \n",
       "17             -999.000               0.900       ...              2.687   \n",
       "18             -999.000               3.177       ...             -0.308   \n",
       "19             -999.000               3.237       ...             -2.047   \n",
       "20             -999.000               1.499       ...             -3.064   \n",
       "21               -0.106               1.244       ...             -0.965   \n",
       "22                0.078               1.965       ...             -2.722   \n",
       "23             -999.000               4.934       ...              0.327   \n",
       "24               -1.061               1.814       ...             -2.255   \n",
       "25               -0.219               1.296       ...              1.376   \n",
       "26             -999.000               2.270       ...              2.602   \n",
       "27             -999.000               2.777       ...              3.126   \n",
       "28               -3.209               2.554       ...             -0.930   \n",
       "29             -999.000               2.756       ...             -2.933   \n",
       "..                  ...                 ...       ...                ...   \n",
       "70               -1.142               3.097       ...              3.082   \n",
       "71                0.263               3.986       ...              0.055   \n",
       "72                0.901               0.744       ...              2.376   \n",
       "73             -999.000               2.401       ...             -1.086   \n",
       "74             -999.000               3.626       ...              2.100   \n",
       "75             -999.000               2.793       ...              1.494   \n",
       "76             -999.000               1.305       ...             -2.242   \n",
       "77             -999.000               3.100       ...             -2.571   \n",
       "78               -0.593               1.575       ...              0.352   \n",
       "79                2.231               1.941       ...             -2.527   \n",
       "80             -999.000               3.117       ...             -0.127   \n",
       "81               -5.072               2.163       ...              1.570   \n",
       "82             -999.000               2.002       ...             -0.195   \n",
       "83             -999.000               1.946       ...             -0.969   \n",
       "84               -0.540               2.276       ...             -0.658   \n",
       "85                2.478               2.765       ...             -1.634   \n",
       "86             -999.000               1.792       ...              0.244   \n",
       "87             -999.000               3.018       ...             -1.406   \n",
       "88               -2.138               1.656       ...              1.980   \n",
       "89             -999.000               3.219       ...             -3.031   \n",
       "90             -999.000               4.638       ...             -1.252   \n",
       "91               -3.680               1.974       ...              2.298   \n",
       "92             -999.000               2.817       ...              1.927   \n",
       "93             -999.000               3.004       ...              2.479   \n",
       "94             -999.000               3.081       ...              1.051   \n",
       "95               -5.157               0.933       ...              0.061   \n",
       "96             -999.000               2.488       ...              1.295   \n",
       "97                8.245               2.957       ...              3.044   \n",
       "98             -999.000               2.258       ...             -0.837   \n",
       "99                0.376               1.429       ...             -1.333   \n",
       "\n",
       "    PRI_met_sumet  PRI_jet_num  PRI_jet_leading_pt  PRI_jet_leading_eta  \\\n",
       "0          98.556            0            -999.000             -999.000   \n",
       "1         176.251            1              47.575               -0.553   \n",
       "2         111.505            0            -999.000             -999.000   \n",
       "3         164.707            0            -999.000             -999.000   \n",
       "4         869.614            3             254.085               -1.013   \n",
       "5          86.129            0            -999.000             -999.000   \n",
       "6          98.461            1              36.990               -3.277   \n",
       "7         274.193            2             119.440                1.243   \n",
       "8         102.088            0            -999.000             -999.000   \n",
       "9         361.566            2             115.867               -0.859   \n",
       "10        243.963            1              45.078                2.571   \n",
       "11        162.849            0            -999.000             -999.000   \n",
       "12        130.277            0            -999.000             -999.000   \n",
       "13        200.498            2              53.231               -1.277   \n",
       "14        225.293            0            -999.000             -999.000   \n",
       "15        139.040            0            -999.000             -999.000   \n",
       "16        101.776            0            -999.000             -999.000   \n",
       "17        196.825            0            -999.000             -999.000   \n",
       "18        177.862            1              33.650               -1.196   \n",
       "19        118.618            0            -999.000             -999.000   \n",
       "20        183.699            1              76.560                2.537   \n",
       "21        184.049            2              33.595                0.057   \n",
       "22        561.120            3             181.886                0.062   \n",
       "23        266.719            1             113.422                2.579   \n",
       "24        206.135            2              71.538               -0.704   \n",
       "25        277.138            3              71.811                0.352   \n",
       "26        225.014            1             116.371               -1.442   \n",
       "27        154.955            0            -999.000             -999.000   \n",
       "28        571.086            3             121.317               -0.946   \n",
       "29        139.519            0            -999.000             -999.000   \n",
       "..            ...          ...                 ...                  ...   \n",
       "70        164.628            2              58.355               -3.526   \n",
       "71        321.176            3             102.086                0.298   \n",
       "72        375.588            2             110.207                0.783   \n",
       "73        140.764            0            -999.000             -999.000   \n",
       "74        170.948            1              48.321                2.271   \n",
       "75        213.567            1              57.116                1.512   \n",
       "76         78.463            0            -999.000             -999.000   \n",
       "77         98.266            0            -999.000             -999.000   \n",
       "78        373.231            2             160.778                0.705   \n",
       "79        234.432            2              62.918                1.657   \n",
       "80         36.548            0            -999.000             -999.000   \n",
       "81        266.617            2              65.713                1.429   \n",
       "82        124.174            0            -999.000             -999.000   \n",
       "83        350.598            1              86.802               -0.414   \n",
       "84        372.615            2              46.965               -1.518   \n",
       "85        372.161            3             121.289                0.747   \n",
       "86        119.765            1              42.435                2.147   \n",
       "87        143.016            1              32.671                1.086   \n",
       "88        230.621            2              96.691               -2.729   \n",
       "89         78.281            0            -999.000             -999.000   \n",
       "90        134.346            0            -999.000             -999.000   \n",
       "91        194.887            2              72.847               -1.134   \n",
       "92         83.680            1              44.621                0.170   \n",
       "93        153.761            0            -999.000             -999.000   \n",
       "94         83.890            0            -999.000             -999.000   \n",
       "95        309.497            2              56.129               -1.580   \n",
       "96        134.845            0            -999.000             -999.000   \n",
       "97        235.555            2              48.265                2.152   \n",
       "98        174.053            0            -999.000             -999.000   \n",
       "99        526.980            3             137.030                0.243   \n",
       "\n",
       "    PRI_jet_leading_phi  PRI_jet_subleading_pt  PRI_jet_subleading_eta  \\\n",
       "0              -999.000               -999.000                -999.000   \n",
       "1                -0.849               -999.000                -999.000   \n",
       "2              -999.000               -999.000                -999.000   \n",
       "3              -999.000               -999.000                -999.000   \n",
       "4                -0.334                185.857                   0.335   \n",
       "5              -999.000               -999.000                -999.000   \n",
       "6                 1.369               -999.000                -999.000   \n",
       "7                -0.739                 59.619                   1.833   \n",
       "8              -999.000               -999.000                -999.000   \n",
       "9                 1.961                 40.427                   2.397   \n",
       "10               -1.255               -999.000                -999.000   \n",
       "11             -999.000               -999.000                -999.000   \n",
       "12             -999.000               -999.000                -999.000   \n",
       "13                0.024                 37.234                   1.561   \n",
       "14             -999.000               -999.000                -999.000   \n",
       "15             -999.000               -999.000                -999.000   \n",
       "16             -999.000               -999.000                -999.000   \n",
       "17             -999.000               -999.000                -999.000   \n",
       "18               -0.505               -999.000                -999.000   \n",
       "19             -999.000               -999.000                -999.000   \n",
       "20               -1.370               -999.000                -999.000   \n",
       "21                0.059                 31.274                  -1.870   \n",
       "22                2.115                 78.088                   1.267   \n",
       "23               -3.072               -999.000                -999.000   \n",
       "24                0.272                 35.147                   1.507   \n",
       "25               -1.418                 59.930                  -0.623   \n",
       "26               -0.487               -999.000                -999.000   \n",
       "27             -999.000               -999.000                -999.000   \n",
       "28               -1.224                 73.673                   3.391   \n",
       "29             -999.000               -999.000                -999.000   \n",
       "..                  ...                    ...                     ...   \n",
       "70                1.829                 56.379                   0.324   \n",
       "71               -1.713                 66.617                   0.884   \n",
       "72               -0.570                 68.137                   1.151   \n",
       "73             -999.000               -999.000                -999.000   \n",
       "74               -0.311               -999.000                -999.000   \n",
       "75               -1.377               -999.000                -999.000   \n",
       "76             -999.000               -999.000                -999.000   \n",
       "77             -999.000               -999.000                -999.000   \n",
       "78               -2.860                 52.858                  -0.841   \n",
       "79                1.929                 34.646                   1.346   \n",
       "80             -999.000               -999.000                -999.000   \n",
       "81               -0.577                 52.022                  -3.550   \n",
       "82             -999.000               -999.000                -999.000   \n",
       "83                2.133               -999.000                -999.000   \n",
       "84                0.415                 39.633                   0.356   \n",
       "85                1.302                 69.886                   3.316   \n",
       "86               -0.604               -999.000                -999.000   \n",
       "87                3.063               -999.000                -999.000   \n",
       "88               -1.471                 34.378                   0.783   \n",
       "89             -999.000               -999.000                -999.000   \n",
       "90             -999.000               -999.000                -999.000   \n",
       "91               -0.178                 31.924                   3.244   \n",
       "92                0.578               -999.000                -999.000   \n",
       "93             -999.000               -999.000                -999.000   \n",
       "94             -999.000               -999.000                -999.000   \n",
       "95               -2.992                 45.558                   3.265   \n",
       "96             -999.000               -999.000                -999.000   \n",
       "97               -1.187                 39.647                   3.831   \n",
       "98             -999.000               -999.000                -999.000   \n",
       "99                2.292                 83.890                   1.545   \n",
       "\n",
       "    PRI_jet_subleading_phi  PRI_jet_all_pt  \n",
       "0                 -999.000           0.000  \n",
       "1                 -999.000          47.575  \n",
       "2                 -999.000           0.000  \n",
       "3                 -999.000           0.000  \n",
       "4                    2.587         599.213  \n",
       "5                 -999.000           0.000  \n",
       "6                 -999.000          36.990  \n",
       "7                    2.788         179.059  \n",
       "8                 -999.000           0.000  \n",
       "9                    1.479         156.294  \n",
       "10                -999.000          45.078  \n",
       "11                -999.000           0.000  \n",
       "12                -999.000           0.000  \n",
       "13                  -3.000          90.465  \n",
       "14                -999.000           0.000  \n",
       "15                -999.000           0.000  \n",
       "16                -999.000           0.000  \n",
       "17                -999.000           0.000  \n",
       "18                -999.000          33.650  \n",
       "19                -999.000           0.000  \n",
       "20                -999.000          76.560  \n",
       "21                  -1.163          64.869  \n",
       "22                  -0.988         402.856  \n",
       "23                -999.000         113.422  \n",
       "24                   2.439         106.685  \n",
       "25                  -2.163         182.901  \n",
       "26                -999.000         116.371  \n",
       "27                -999.000           0.000  \n",
       "28                   2.500         310.870  \n",
       "29                -999.000           0.000  \n",
       "..                     ...             ...  \n",
       "70                  -1.068         114.733  \n",
       "71                  -2.582         227.124  \n",
       "72                  -1.705         178.344  \n",
       "73                -999.000           0.000  \n",
       "74                -999.000          48.321  \n",
       "75                -999.000          57.116  \n",
       "76                -999.000           0.000  \n",
       "77                -999.000           0.000  \n",
       "78                   0.594         213.635  \n",
       "79                   0.105          97.564  \n",
       "80                -999.000           0.000  \n",
       "81                  -1.672         117.734  \n",
       "82                -999.000           0.000  \n",
       "83                -999.000          86.802  \n",
       "84                  -2.586          86.597  \n",
       "85                  -1.546         225.086  \n",
       "86                -999.000          42.435  \n",
       "87                -999.000          32.671  \n",
       "88                  -1.744         131.068  \n",
       "89                -999.000           0.000  \n",
       "90                -999.000           0.000  \n",
       "91                  -1.548         104.771  \n",
       "92                -999.000          44.621  \n",
       "93                -999.000           0.000  \n",
       "94                -999.000           0.000  \n",
       "95                  -2.959         101.686  \n",
       "96                -999.000           0.000  \n",
       "97                   2.304          87.912  \n",
       "98                -999.000           0.000  \n",
       "99                  -1.537         256.661  \n",
       "\n",
       "[100 rows x 32 columns]>"
      ]
     },
     "execution_count": 105,
     "metadata": {},
     "output_type": "execute_result"
    }
   ],
   "source": [
    "df.head"
   ]
  },
  {
   "cell_type": "code",
   "execution_count": 107,
   "metadata": {},
   "outputs": [
    {
     "data": {
      "text/plain": [
       "['Id',\n",
       " 'Prediction',\n",
       " 'DER_mass_MMC',\n",
       " 'DER_mass_transverse_met_lep',\n",
       " 'DER_mass_vis',\n",
       " 'DER_pt_h',\n",
       " 'DER_deltaeta_jet_jet',\n",
       " 'DER_mass_jet_jet',\n",
       " 'DER_prodeta_jet_jet',\n",
       " 'DER_deltar_tau_lep',\n",
       " 'DER_pt_tot',\n",
       " 'DER_sum_pt',\n",
       " 'DER_pt_ratio_lep_tau',\n",
       " 'DER_met_phi_centrality',\n",
       " 'DER_lep_eta_centrality',\n",
       " 'PRI_tau_pt',\n",
       " 'PRI_tau_eta',\n",
       " 'PRI_tau_phi',\n",
       " 'PRI_lep_pt',\n",
       " 'PRI_lep_eta',\n",
       " 'PRI_lep_phi',\n",
       " 'PRI_met',\n",
       " 'PRI_met_phi',\n",
       " 'PRI_met_sumet',\n",
       " 'PRI_jet_num',\n",
       " 'PRI_jet_leading_pt',\n",
       " 'PRI_jet_leading_eta',\n",
       " 'PRI_jet_leading_phi',\n",
       " 'PRI_jet_subleading_pt',\n",
       " 'PRI_jet_subleading_eta',\n",
       " 'PRI_jet_subleading_phi',\n",
       " 'PRI_jet_all_pt']"
      ]
     },
     "execution_count": 107,
     "metadata": {},
     "output_type": "execute_result"
    }
   ],
   "source": [
    "features = list(df)\n",
    "features"
   ]
  },
  {
   "cell_type": "code",
   "execution_count": 101,
   "metadata": {},
   "outputs": [
    {
     "name": "stdout",
     "output_type": "stream",
     "text": [
      "DER_mass_MMC\n",
      "[ 138.47   160.937 -999.    ...  105.457   94.951 -999.   ]\n"
     ]
    },
    {
     "data": {
      "image/png": "[encoded data removed]",
      "text/plain": [
       "<matplotlib.figure.Figure at 0x7fe650145438>"
      ]
     },
     "metadata": {},
     "output_type": "display_data"
    },
    {
     "name": "stdout",
     "output_type": "stream",
     "text": [
      "DER_mass_transverse_met_lep\n",
      "[ 51.655  68.768 162.172 ...  60.526  19.362  72.756]\n"
     ]
    },
    {
     "data": {
      "image/png": "[encoded data removed]",
      "text/plain": [
       "<matplotlib.figure.Figure at 0x7fe65035a630>"
      ]
     },
     "metadata": {},
     "output_type": "display_data"
    },
    {
     "name": "stdout",
     "output_type": "stream",
     "text": [
      "DER_mass_vis\n",
      "[ 97.827 103.235 125.953 ...  75.839  68.812  70.831]\n"
     ]
    },
    {
     "data": {
      "image/png": "[encoded data removed]",
      "text/plain": [
       "<matplotlib.figure.Figure at 0x7fe647daf2e8>"
      ]
     },
     "metadata": {},
     "output_type": "display_data"
    },
    {
     "name": "stdout",
     "output_type": "stream",
     "text": [
      "DER_pt_h\n",
      "[27.98  48.146 35.635 ... 39.757 13.504  7.479]\n"
     ]
    },
    {
     "data": {
      "image/png": "[encoded data removed]",
      "text/plain": [
       "<matplotlib.figure.Figure at 0x7fe6503e0550>"
      ]
     },
     "metadata": {},
     "output_type": "display_data"
    },
    {
     "name": "stdout",
     "output_type": "stream",
     "text": [
      "DER_deltaeta_jet_jet\n",
      "[ 9.10e-01 -9.99e+02 -9.99e+02 ... -9.99e+02 -9.99e+02 -9.99e+02]\n"
     ]
    },
    {
     "data": {
      "image/png": "[encoded data removed]",
      "text/plain": [
       "<matplotlib.figure.Figure at 0x7fe65038fc50>"
      ]
     },
     "metadata": {},
     "output_type": "display_data"
    },
    {
     "name": "stdout",
     "output_type": "stream",
     "text": [
      "DER_mass_jet_jet\n",
      "[ 124.711 -999.    -999.    ... -999.    -999.    -999.   ]\n"
     ]
    },
    {
     "ename": "KeyboardInterrupt",
     "evalue": "",
     "output_type": "error",
     "traceback": [
      "\u001b[0;31m---------------------------------------------------------------------------\u001b[0m",
      "\u001b[0;31mKeyboardInterrupt\u001b[0m                         Traceback (most recent call last)",
      "\u001b[0;32m<ipython-input-101-9c77afcb84c2>\u001b[0m in \u001b[0;36m<module>\u001b[0;34m()\u001b[0m\n\u001b[1;32m      8\u001b[0m     \u001b[0mplt\u001b[0m\u001b[0;34m.\u001b[0m\u001b[0mxlabel\u001b[0m\u001b[0;34m(\u001b[0m\u001b[0mfeature_name\u001b[0m\u001b[0;34m)\u001b[0m\u001b[0;34m\u001b[0m\u001b[0m\n\u001b[1;32m      9\u001b[0m     \u001b[0mplt\u001b[0m\u001b[0;34m.\u001b[0m\u001b[0mylabel\u001b[0m\u001b[0;34m(\u001b[0m\u001b[0;34m'yb'\u001b[0m\u001b[0;34m)\u001b[0m\u001b[0;34m\u001b[0m\u001b[0m\n\u001b[0;32m---> 10\u001b[0;31m     \u001b[0mplt\u001b[0m\u001b[0;34m.\u001b[0m\u001b[0msavefig\u001b[0m\u001b[0;34m(\u001b[0m\u001b[0;34mf'yb_distribution_{feature_name}.png'\u001b[0m\u001b[0;34m)\u001b[0m\u001b[0;34m\u001b[0m\u001b[0m\n\u001b[0m\u001b[1;32m     11\u001b[0m     \u001b[0mplt\u001b[0m\u001b[0;34m.\u001b[0m\u001b[0mshow\u001b[0m\u001b[0;34m(\u001b[0m\u001b[0;34m)\u001b[0m\u001b[0;34m\u001b[0m\u001b[0m\n\u001b[1;32m     12\u001b[0m \u001b[0;34m\u001b[0m\u001b[0m\n",
      "\u001b[0;32m/usr/lib/python3/dist-packages/matplotlib/pyplot.py\u001b[0m in \u001b[0;36msavefig\u001b[0;34m(*args, **kwargs)\u001b[0m\n\u001b[1;32m    699\u001b[0m \u001b[0;32mdef\u001b[0m \u001b[0msavefig\u001b[0m\u001b[0;34m(\u001b[0m\u001b[0;34m*\u001b[0m\u001b[0margs\u001b[0m\u001b[0;34m,\u001b[0m \u001b[0;34m**\u001b[0m\u001b[0mkwargs\u001b[0m\u001b[0;34m)\u001b[0m\u001b[0;34m:\u001b[0m\u001b[0;34m\u001b[0m\u001b[0m\n\u001b[1;32m    700\u001b[0m     \u001b[0mfig\u001b[0m \u001b[0;34m=\u001b[0m \u001b[0mgcf\u001b[0m\u001b[0;34m(\u001b[0m\u001b[0;34m)\u001b[0m\u001b[0;34m\u001b[0m\u001b[0m\n\u001b[0;32m--> 701\u001b[0;31m     \u001b[0mres\u001b[0m \u001b[0;34m=\u001b[0m \u001b[0mfig\u001b[0m\u001b[0;34m.\u001b[0m\u001b[0msavefig\u001b[0m\u001b[0;34m(\u001b[0m\u001b[0;34m*\u001b[0m\u001b[0margs\u001b[0m\u001b[0;34m,\u001b[0m \u001b[0;34m**\u001b[0m\u001b[0mkwargs\u001b[0m\u001b[0;34m)\u001b[0m\u001b[0;34m\u001b[0m\u001b[0m\n\u001b[0m\u001b[1;32m    702\u001b[0m     \u001b[0mfig\u001b[0m\u001b[0;34m.\u001b[0m\u001b[0mcanvas\u001b[0m\u001b[0;34m.\u001b[0m\u001b[0mdraw_idle\u001b[0m\u001b[0;34m(\u001b[0m\u001b[0;34m)\u001b[0m   \u001b[0;31m# need this if 'transparent=True' to reset colors\u001b[0m\u001b[0;34m\u001b[0m\u001b[0m\n\u001b[1;32m    703\u001b[0m     \u001b[0;32mreturn\u001b[0m \u001b[0mres\u001b[0m\u001b[0;34m\u001b[0m\u001b[0m\n",
      "\u001b[0;32m/usr/lib/python3/dist-packages/matplotlib/figure.py\u001b[0m in \u001b[0;36msavefig\u001b[0;34m(self, fname, **kwargs)\u001b[0m\n\u001b[1;32m   1832\u001b[0m             \u001b[0mself\u001b[0m\u001b[0;34m.\u001b[0m\u001b[0mset_frameon\u001b[0m\u001b[0;34m(\u001b[0m\u001b[0mframeon\u001b[0m\u001b[0;34m)\u001b[0m\u001b[0;34m\u001b[0m\u001b[0m\n\u001b[1;32m   1833\u001b[0m \u001b[0;34m\u001b[0m\u001b[0m\n\u001b[0;32m-> 1834\u001b[0;31m         \u001b[0mself\u001b[0m\u001b[0;34m.\u001b[0m\u001b[0mcanvas\u001b[0m\u001b[0;34m.\u001b[0m\u001b[0mprint_figure\u001b[0m\u001b[0;34m(\u001b[0m\u001b[0mfname\u001b[0m\u001b[0;34m,\u001b[0m \u001b[0;34m**\u001b[0m\u001b[0mkwargs\u001b[0m\u001b[0;34m)\u001b[0m\u001b[0;34m\u001b[0m\u001b[0m\n\u001b[0m\u001b[1;32m   1835\u001b[0m \u001b[0;34m\u001b[0m\u001b[0m\n\u001b[1;32m   1836\u001b[0m         \u001b[0;32mif\u001b[0m \u001b[0mframeon\u001b[0m\u001b[0;34m:\u001b[0m\u001b[0;34m\u001b[0m\u001b[0m\n",
      "\u001b[0;32m/usr/lib/python3/dist-packages/matplotlib/backend_bases.py\u001b[0m in \u001b[0;36mprint_figure\u001b[0;34m(self, filename, dpi, facecolor, edgecolor, orientation, format, **kwargs)\u001b[0m\n\u001b[1;32m   2265\u001b[0m                 \u001b[0morientation\u001b[0m\u001b[0;34m=\u001b[0m\u001b[0morientation\u001b[0m\u001b[0;34m,\u001b[0m\u001b[0;34m\u001b[0m\u001b[0m\n\u001b[1;32m   2266\u001b[0m                 \u001b[0mbbox_inches_restore\u001b[0m\u001b[0;34m=\u001b[0m\u001b[0m_bbox_inches_restore\u001b[0m\u001b[0;34m,\u001b[0m\u001b[0;34m\u001b[0m\u001b[0m\n\u001b[0;32m-> 2267\u001b[0;31m                 **kwargs)\n\u001b[0m\u001b[1;32m   2268\u001b[0m         \u001b[0;32mfinally\u001b[0m\u001b[0;34m:\u001b[0m\u001b[0;34m\u001b[0m\u001b[0m\n\u001b[1;32m   2269\u001b[0m             \u001b[0;32mif\u001b[0m \u001b[0mbbox_inches\u001b[0m \u001b[0;32mand\u001b[0m \u001b[0mrestore_bbox\u001b[0m\u001b[0;34m:\u001b[0m\u001b[0;34m\u001b[0m\u001b[0m\n",
      "\u001b[0;32m/usr/lib/python3/dist-packages/matplotlib/backends/backend_agg.py\u001b[0m in \u001b[0;36mprint_png\u001b[0;34m(self, filename_or_obj, *args, **kwargs)\u001b[0m\n\u001b[1;32m    505\u001b[0m \u001b[0;34m\u001b[0m\u001b[0m\n\u001b[1;32m    506\u001b[0m     \u001b[0;32mdef\u001b[0m \u001b[0mprint_png\u001b[0m\u001b[0;34m(\u001b[0m\u001b[0mself\u001b[0m\u001b[0;34m,\u001b[0m \u001b[0mfilename_or_obj\u001b[0m\u001b[0;34m,\u001b[0m \u001b[0;34m*\u001b[0m\u001b[0margs\u001b[0m\u001b[0;34m,\u001b[0m \u001b[0;34m**\u001b[0m\u001b[0mkwargs\u001b[0m\u001b[0;34m)\u001b[0m\u001b[0;34m:\u001b[0m\u001b[0;34m\u001b[0m\u001b[0m\n\u001b[0;32m--> 507\u001b[0;31m         \u001b[0mFigureCanvasAgg\u001b[0m\u001b[0;34m.\u001b[0m\u001b[0mdraw\u001b[0m\u001b[0;34m(\u001b[0m\u001b[0mself\u001b[0m\u001b[0;34m)\u001b[0m\u001b[0;34m\u001b[0m\u001b[0m\n\u001b[0m\u001b[1;32m    508\u001b[0m         \u001b[0mrenderer\u001b[0m \u001b[0;34m=\u001b[0m \u001b[0mself\u001b[0m\u001b[0;34m.\u001b[0m\u001b[0mget_renderer\u001b[0m\u001b[0;34m(\u001b[0m\u001b[0;34m)\u001b[0m\u001b[0;34m\u001b[0m\u001b[0m\n\u001b[1;32m    509\u001b[0m         \u001b[0moriginal_dpi\u001b[0m \u001b[0;34m=\u001b[0m \u001b[0mrenderer\u001b[0m\u001b[0;34m.\u001b[0m\u001b[0mdpi\u001b[0m\u001b[0;34m\u001b[0m\u001b[0m\n",
      "\u001b[0;32m/usr/lib/python3/dist-packages/matplotlib/backends/backend_agg.py\u001b[0m in \u001b[0;36mdraw\u001b[0;34m(self)\u001b[0m\n\u001b[1;32m    428\u001b[0m             \u001b[0;32mif\u001b[0m \u001b[0mtoolbar\u001b[0m\u001b[0;34m:\u001b[0m\u001b[0;34m\u001b[0m\u001b[0m\n\u001b[1;32m    429\u001b[0m                 \u001b[0mtoolbar\u001b[0m\u001b[0;34m.\u001b[0m\u001b[0mset_cursor\u001b[0m\u001b[0;34m(\u001b[0m\u001b[0mcursors\u001b[0m\u001b[0;34m.\u001b[0m\u001b[0mWAIT\u001b[0m\u001b[0;34m)\u001b[0m\u001b[0;34m\u001b[0m\u001b[0m\n\u001b[0;32m--> 430\u001b[0;31m             \u001b[0mself\u001b[0m\u001b[0;34m.\u001b[0m\u001b[0mfigure\u001b[0m\u001b[0;34m.\u001b[0m\u001b[0mdraw\u001b[0m\u001b[0;34m(\u001b[0m\u001b[0mself\u001b[0m\u001b[0;34m.\u001b[0m\u001b[0mrenderer\u001b[0m\u001b[0;34m)\u001b[0m\u001b[0;34m\u001b[0m\u001b[0m\n\u001b[0m\u001b[1;32m    431\u001b[0m         \u001b[0;32mfinally\u001b[0m\u001b[0;34m:\u001b[0m\u001b[0;34m\u001b[0m\u001b[0m\n\u001b[1;32m    432\u001b[0m             \u001b[0;32mif\u001b[0m \u001b[0mtoolbar\u001b[0m\u001b[0;34m:\u001b[0m\u001b[0;34m\u001b[0m\u001b[0m\n",
      "\u001b[0;32m/usr/lib/python3/dist-packages/matplotlib/artist.py\u001b[0m in \u001b[0;36mdraw_wrapper\u001b[0;34m(artist, renderer, *args, **kwargs)\u001b[0m\n\u001b[1;32m     53\u001b[0m                 \u001b[0mrenderer\u001b[0m\u001b[0;34m.\u001b[0m\u001b[0mstart_filter\u001b[0m\u001b[0;34m(\u001b[0m\u001b[0;34m)\u001b[0m\u001b[0;34m\u001b[0m\u001b[0m\n\u001b[1;32m     54\u001b[0m \u001b[0;34m\u001b[0m\u001b[0m\n\u001b[0;32m---> 55\u001b[0;31m             \u001b[0;32mreturn\u001b[0m \u001b[0mdraw\u001b[0m\u001b[0;34m(\u001b[0m\u001b[0martist\u001b[0m\u001b[0;34m,\u001b[0m \u001b[0mrenderer\u001b[0m\u001b[0;34m,\u001b[0m \u001b[0;34m*\u001b[0m\u001b[0margs\u001b[0m\u001b[0;34m,\u001b[0m \u001b[0;34m**\u001b[0m\u001b[0mkwargs\u001b[0m\u001b[0;34m)\u001b[0m\u001b[0;34m\u001b[0m\u001b[0m\n\u001b[0m\u001b[1;32m     56\u001b[0m         \u001b[0;32mfinally\u001b[0m\u001b[0;34m:\u001b[0m\u001b[0;34m\u001b[0m\u001b[0m\n\u001b[1;32m     57\u001b[0m             \u001b[0;32mif\u001b[0m \u001b[0martist\u001b[0m\u001b[0;34m.\u001b[0m\u001b[0mget_agg_filter\u001b[0m\u001b[0;34m(\u001b[0m\u001b[0;34m)\u001b[0m \u001b[0;32mis\u001b[0m \u001b[0;32mnot\u001b[0m \u001b[0;32mNone\u001b[0m\u001b[0;34m:\u001b[0m\u001b[0;34m\u001b[0m\u001b[0m\n",
      "\u001b[0;32m/usr/lib/python3/dist-packages/matplotlib/figure.py\u001b[0m in \u001b[0;36mdraw\u001b[0;34m(self, renderer)\u001b[0m\n\u001b[1;32m   1297\u001b[0m \u001b[0;34m\u001b[0m\u001b[0m\n\u001b[1;32m   1298\u001b[0m             mimage._draw_list_compositing_images(\n\u001b[0;32m-> 1299\u001b[0;31m                 renderer, self, artists, self.suppressComposite)\n\u001b[0m\u001b[1;32m   1300\u001b[0m \u001b[0;34m\u001b[0m\u001b[0m\n\u001b[1;32m   1301\u001b[0m             \u001b[0mrenderer\u001b[0m\u001b[0;34m.\u001b[0m\u001b[0mclose_group\u001b[0m\u001b[0;34m(\u001b[0m\u001b[0;34m'figure'\u001b[0m\u001b[0;34m)\u001b[0m\u001b[0;34m\u001b[0m\u001b[0m\n",
      "\u001b[0;32m/usr/lib/python3/dist-packages/matplotlib/image.py\u001b[0m in \u001b[0;36m_draw_list_compositing_images\u001b[0;34m(renderer, parent, artists, suppress_composite)\u001b[0m\n\u001b[1;32m    136\u001b[0m     \u001b[0;32mif\u001b[0m \u001b[0mnot_composite\u001b[0m \u001b[0;32mor\u001b[0m \u001b[0;32mnot\u001b[0m \u001b[0mhas_images\u001b[0m\u001b[0;34m:\u001b[0m\u001b[0;34m\u001b[0m\u001b[0m\n\u001b[1;32m    137\u001b[0m         \u001b[0;32mfor\u001b[0m \u001b[0ma\u001b[0m \u001b[0;32min\u001b[0m \u001b[0martists\u001b[0m\u001b[0;34m:\u001b[0m\u001b[0;34m\u001b[0m\u001b[0m\n\u001b[0;32m--> 138\u001b[0;31m             \u001b[0ma\u001b[0m\u001b[0;34m.\u001b[0m\u001b[0mdraw\u001b[0m\u001b[0;34m(\u001b[0m\u001b[0mrenderer\u001b[0m\u001b[0;34m)\u001b[0m\u001b[0;34m\u001b[0m\u001b[0m\n\u001b[0m\u001b[1;32m    139\u001b[0m     \u001b[0;32melse\u001b[0m\u001b[0;34m:\u001b[0m\u001b[0;34m\u001b[0m\u001b[0m\n\u001b[1;32m    140\u001b[0m         \u001b[0;31m# Composite any adjacent images together\u001b[0m\u001b[0;34m\u001b[0m\u001b[0;34m\u001b[0m\u001b[0m\n",
      "\u001b[0;32m/usr/lib/python3/dist-packages/matplotlib/artist.py\u001b[0m in \u001b[0;36mdraw_wrapper\u001b[0;34m(artist, renderer, *args, **kwargs)\u001b[0m\n\u001b[1;32m     53\u001b[0m                 \u001b[0mrenderer\u001b[0m\u001b[0;34m.\u001b[0m\u001b[0mstart_filter\u001b[0m\u001b[0;34m(\u001b[0m\u001b[0;34m)\u001b[0m\u001b[0;34m\u001b[0m\u001b[0m\n\u001b[1;32m     54\u001b[0m \u001b[0;34m\u001b[0m\u001b[0m\n\u001b[0;32m---> 55\u001b[0;31m             \u001b[0;32mreturn\u001b[0m \u001b[0mdraw\u001b[0m\u001b[0;34m(\u001b[0m\u001b[0martist\u001b[0m\u001b[0;34m,\u001b[0m \u001b[0mrenderer\u001b[0m\u001b[0;34m,\u001b[0m \u001b[0;34m*\u001b[0m\u001b[0margs\u001b[0m\u001b[0;34m,\u001b[0m \u001b[0;34m**\u001b[0m\u001b[0mkwargs\u001b[0m\u001b[0;34m)\u001b[0m\u001b[0;34m\u001b[0m\u001b[0m\n\u001b[0m\u001b[1;32m     56\u001b[0m         \u001b[0;32mfinally\u001b[0m\u001b[0;34m:\u001b[0m\u001b[0;34m\u001b[0m\u001b[0m\n\u001b[1;32m     57\u001b[0m             \u001b[0;32mif\u001b[0m \u001b[0martist\u001b[0m\u001b[0;34m.\u001b[0m\u001b[0mget_agg_filter\u001b[0m\u001b[0;34m(\u001b[0m\u001b[0;34m)\u001b[0m \u001b[0;32mis\u001b[0m \u001b[0;32mnot\u001b[0m \u001b[0;32mNone\u001b[0m\u001b[0;34m:\u001b[0m\u001b[0;34m\u001b[0m\u001b[0m\n",
      "\u001b[0;32m/usr/lib/python3/dist-packages/matplotlib/axes/_base.py\u001b[0m in \u001b[0;36mdraw\u001b[0;34m(self, renderer, inframe)\u001b[0m\n\u001b[1;32m   2435\u001b[0m             \u001b[0mrenderer\u001b[0m\u001b[0;34m.\u001b[0m\u001b[0mstop_rasterizing\u001b[0m\u001b[0;34m(\u001b[0m\u001b[0;34m)\u001b[0m\u001b[0;34m\u001b[0m\u001b[0m\n\u001b[1;32m   2436\u001b[0m \u001b[0;34m\u001b[0m\u001b[0m\n\u001b[0;32m-> 2437\u001b[0;31m         \u001b[0mmimage\u001b[0m\u001b[0;34m.\u001b[0m\u001b[0m_draw_list_compositing_images\u001b[0m\u001b[0;34m(\u001b[0m\u001b[0mrenderer\u001b[0m\u001b[0;34m,\u001b[0m \u001b[0mself\u001b[0m\u001b[0;34m,\u001b[0m \u001b[0martists\u001b[0m\u001b[0;34m)\u001b[0m\u001b[0;34m\u001b[0m\u001b[0m\n\u001b[0m\u001b[1;32m   2438\u001b[0m \u001b[0;34m\u001b[0m\u001b[0m\n\u001b[1;32m   2439\u001b[0m         \u001b[0mrenderer\u001b[0m\u001b[0;34m.\u001b[0m\u001b[0mclose_group\u001b[0m\u001b[0;34m(\u001b[0m\u001b[0;34m'axes'\u001b[0m\u001b[0;34m)\u001b[0m\u001b[0;34m\u001b[0m\u001b[0m\n",
      "\u001b[0;32m/usr/lib/python3/dist-packages/matplotlib/image.py\u001b[0m in \u001b[0;36m_draw_list_compositing_images\u001b[0;34m(renderer, parent, artists, suppress_composite)\u001b[0m\n\u001b[1;32m    136\u001b[0m     \u001b[0;32mif\u001b[0m \u001b[0mnot_composite\u001b[0m \u001b[0;32mor\u001b[0m \u001b[0;32mnot\u001b[0m \u001b[0mhas_images\u001b[0m\u001b[0;34m:\u001b[0m\u001b[0;34m\u001b[0m\u001b[0m\n\u001b[1;32m    137\u001b[0m         \u001b[0;32mfor\u001b[0m \u001b[0ma\u001b[0m \u001b[0;32min\u001b[0m \u001b[0martists\u001b[0m\u001b[0;34m:\u001b[0m\u001b[0;34m\u001b[0m\u001b[0m\n\u001b[0;32m--> 138\u001b[0;31m             \u001b[0ma\u001b[0m\u001b[0;34m.\u001b[0m\u001b[0mdraw\u001b[0m\u001b[0;34m(\u001b[0m\u001b[0mrenderer\u001b[0m\u001b[0;34m)\u001b[0m\u001b[0;34m\u001b[0m\u001b[0m\n\u001b[0m\u001b[1;32m    139\u001b[0m     \u001b[0;32melse\u001b[0m\u001b[0;34m:\u001b[0m\u001b[0;34m\u001b[0m\u001b[0m\n\u001b[1;32m    140\u001b[0m         \u001b[0;31m# Composite any adjacent images together\u001b[0m\u001b[0;34m\u001b[0m\u001b[0;34m\u001b[0m\u001b[0m\n",
      "\u001b[0;32m/usr/lib/python3/dist-packages/matplotlib/artist.py\u001b[0m in \u001b[0;36mdraw_wrapper\u001b[0;34m(artist, renderer, *args, **kwargs)\u001b[0m\n\u001b[1;32m     53\u001b[0m                 \u001b[0mrenderer\u001b[0m\u001b[0;34m.\u001b[0m\u001b[0mstart_filter\u001b[0m\u001b[0;34m(\u001b[0m\u001b[0;34m)\u001b[0m\u001b[0;34m\u001b[0m\u001b[0m\n\u001b[1;32m     54\u001b[0m \u001b[0;34m\u001b[0m\u001b[0m\n\u001b[0;32m---> 55\u001b[0;31m             \u001b[0;32mreturn\u001b[0m \u001b[0mdraw\u001b[0m\u001b[0;34m(\u001b[0m\u001b[0martist\u001b[0m\u001b[0;34m,\u001b[0m \u001b[0mrenderer\u001b[0m\u001b[0;34m,\u001b[0m \u001b[0;34m*\u001b[0m\u001b[0margs\u001b[0m\u001b[0;34m,\u001b[0m \u001b[0;34m**\u001b[0m\u001b[0mkwargs\u001b[0m\u001b[0;34m)\u001b[0m\u001b[0;34m\u001b[0m\u001b[0m\n\u001b[0m\u001b[1;32m     56\u001b[0m         \u001b[0;32mfinally\u001b[0m\u001b[0;34m:\u001b[0m\u001b[0;34m\u001b[0m\u001b[0m\n\u001b[1;32m     57\u001b[0m             \u001b[0;32mif\u001b[0m \u001b[0martist\u001b[0m\u001b[0;34m.\u001b[0m\u001b[0mget_agg_filter\u001b[0m\u001b[0;34m(\u001b[0m\u001b[0;34m)\u001b[0m \u001b[0;32mis\u001b[0m \u001b[0;32mnot\u001b[0m \u001b[0;32mNone\u001b[0m\u001b[0;34m:\u001b[0m\u001b[0;34m\u001b[0m\u001b[0m\n",
      "\u001b[0;32m/usr/lib/python3/dist-packages/matplotlib/collections.py\u001b[0m in \u001b[0;36mdraw\u001b[0;34m(self, renderer)\u001b[0m\n\u001b[1;32m    860\u001b[0m     \u001b[0;32mdef\u001b[0m \u001b[0mdraw\u001b[0m\u001b[0;34m(\u001b[0m\u001b[0mself\u001b[0m\u001b[0;34m,\u001b[0m \u001b[0mrenderer\u001b[0m\u001b[0;34m)\u001b[0m\u001b[0;34m:\u001b[0m\u001b[0;34m\u001b[0m\u001b[0m\n\u001b[1;32m    861\u001b[0m         \u001b[0mself\u001b[0m\u001b[0;34m.\u001b[0m\u001b[0mset_sizes\u001b[0m\u001b[0;34m(\u001b[0m\u001b[0mself\u001b[0m\u001b[0;34m.\u001b[0m\u001b[0m_sizes\u001b[0m\u001b[0;34m,\u001b[0m \u001b[0mself\u001b[0m\u001b[0;34m.\u001b[0m\u001b[0mfigure\u001b[0m\u001b[0;34m.\u001b[0m\u001b[0mdpi\u001b[0m\u001b[0;34m)\u001b[0m\u001b[0;34m\u001b[0m\u001b[0m\n\u001b[0;32m--> 862\u001b[0;31m         \u001b[0mCollection\u001b[0m\u001b[0;34m.\u001b[0m\u001b[0mdraw\u001b[0m\u001b[0;34m(\u001b[0m\u001b[0mself\u001b[0m\u001b[0;34m,\u001b[0m \u001b[0mrenderer\u001b[0m\u001b[0;34m)\u001b[0m\u001b[0;34m\u001b[0m\u001b[0m\n\u001b[0m\u001b[1;32m    863\u001b[0m \u001b[0;34m\u001b[0m\u001b[0m\n\u001b[1;32m    864\u001b[0m \u001b[0;34m\u001b[0m\u001b[0m\n",
      "\u001b[0;32m/usr/lib/python3/dist-packages/matplotlib/artist.py\u001b[0m in \u001b[0;36mdraw_wrapper\u001b[0;34m(artist, renderer, *args, **kwargs)\u001b[0m\n\u001b[1;32m     53\u001b[0m                 \u001b[0mrenderer\u001b[0m\u001b[0;34m.\u001b[0m\u001b[0mstart_filter\u001b[0m\u001b[0;34m(\u001b[0m\u001b[0;34m)\u001b[0m\u001b[0;34m\u001b[0m\u001b[0m\n\u001b[1;32m     54\u001b[0m \u001b[0;34m\u001b[0m\u001b[0m\n\u001b[0;32m---> 55\u001b[0;31m             \u001b[0;32mreturn\u001b[0m \u001b[0mdraw\u001b[0m\u001b[0;34m(\u001b[0m\u001b[0martist\u001b[0m\u001b[0;34m,\u001b[0m \u001b[0mrenderer\u001b[0m\u001b[0;34m,\u001b[0m \u001b[0;34m*\u001b[0m\u001b[0margs\u001b[0m\u001b[0;34m,\u001b[0m \u001b[0;34m**\u001b[0m\u001b[0mkwargs\u001b[0m\u001b[0;34m)\u001b[0m\u001b[0;34m\u001b[0m\u001b[0m\n\u001b[0m\u001b[1;32m     56\u001b[0m         \u001b[0;32mfinally\u001b[0m\u001b[0;34m:\u001b[0m\u001b[0;34m\u001b[0m\u001b[0m\n\u001b[1;32m     57\u001b[0m             \u001b[0;32mif\u001b[0m \u001b[0martist\u001b[0m\u001b[0;34m.\u001b[0m\u001b[0mget_agg_filter\u001b[0m\u001b[0;34m(\u001b[0m\u001b[0;34m)\u001b[0m \u001b[0;32mis\u001b[0m \u001b[0;32mnot\u001b[0m \u001b[0;32mNone\u001b[0m\u001b[0;34m:\u001b[0m\u001b[0;34m\u001b[0m\u001b[0m\n",
      "\u001b[0;32m/usr/lib/python3/dist-packages/matplotlib/collections.py\u001b[0m in \u001b[0;36mdraw\u001b[0;34m(self, renderer)\u001b[0m\n\u001b[1;32m    311\u001b[0m             renderer.draw_markers(\n\u001b[1;32m    312\u001b[0m                 \u001b[0mgc\u001b[0m\u001b[0;34m,\u001b[0m \u001b[0mpaths\u001b[0m\u001b[0;34m[\u001b[0m\u001b[0;36m0\u001b[0m\u001b[0;34m]\u001b[0m\u001b[0;34m,\u001b[0m \u001b[0mcombined_transform\u001b[0m\u001b[0;34m.\u001b[0m\u001b[0mfrozen\u001b[0m\u001b[0;34m(\u001b[0m\u001b[0;34m)\u001b[0m\u001b[0;34m,\u001b[0m\u001b[0;34m\u001b[0m\u001b[0m\n\u001b[0;32m--> 313\u001b[0;31m                 mpath.Path(offsets), transOffset, tuple(facecolors[0]))\n\u001b[0m\u001b[1;32m    314\u001b[0m         \u001b[0;32melse\u001b[0m\u001b[0;34m:\u001b[0m\u001b[0;34m\u001b[0m\u001b[0m\n\u001b[1;32m    315\u001b[0m             renderer.draw_path_collection(\n",
      "\u001b[0;32m/usr/lib/python3/dist-packages/matplotlib/backends/backend_agg.py\u001b[0m in \u001b[0;36mdraw_markers\u001b[0;34m(self, *kl, **kw)\u001b[0m\n\u001b[1;32m    115\u001b[0m     \u001b[0;31m# maybe there is better way to do it.\u001b[0m\u001b[0;34m\u001b[0m\u001b[0;34m\u001b[0m\u001b[0m\n\u001b[1;32m    116\u001b[0m     \u001b[0;32mdef\u001b[0m \u001b[0mdraw_markers\u001b[0m\u001b[0;34m(\u001b[0m\u001b[0mself\u001b[0m\u001b[0;34m,\u001b[0m \u001b[0;34m*\u001b[0m\u001b[0mkl\u001b[0m\u001b[0;34m,\u001b[0m \u001b[0;34m**\u001b[0m\u001b[0mkw\u001b[0m\u001b[0;34m)\u001b[0m\u001b[0;34m:\u001b[0m\u001b[0;34m\u001b[0m\u001b[0m\n\u001b[0;32m--> 117\u001b[0;31m         \u001b[0;32mreturn\u001b[0m \u001b[0mself\u001b[0m\u001b[0;34m.\u001b[0m\u001b[0m_renderer\u001b[0m\u001b[0;34m.\u001b[0m\u001b[0mdraw_markers\u001b[0m\u001b[0;34m(\u001b[0m\u001b[0;34m*\u001b[0m\u001b[0mkl\u001b[0m\u001b[0;34m,\u001b[0m \u001b[0;34m**\u001b[0m\u001b[0mkw\u001b[0m\u001b[0;34m)\u001b[0m\u001b[0;34m\u001b[0m\u001b[0m\n\u001b[0m\u001b[1;32m    118\u001b[0m \u001b[0;34m\u001b[0m\u001b[0m\n\u001b[1;32m    119\u001b[0m     \u001b[0;32mdef\u001b[0m \u001b[0mdraw_path_collection\u001b[0m\u001b[0;34m(\u001b[0m\u001b[0mself\u001b[0m\u001b[0;34m,\u001b[0m \u001b[0;34m*\u001b[0m\u001b[0mkl\u001b[0m\u001b[0;34m,\u001b[0m \u001b[0;34m**\u001b[0m\u001b[0mkw\u001b[0m\u001b[0;34m)\u001b[0m\u001b[0;34m:\u001b[0m\u001b[0;34m\u001b[0m\u001b[0m\n",
      "\u001b[0;31mKeyboardInterrupt\u001b[0m: "
     ]
    },
    {
     "data": {
      "image/png": "[encoded data removed]",
      "text/plain": [
       "<matplotlib.figure.Figure at 0x7fe6504099e8>"
      ]
     },
     "metadata": {},
     "output_type": "display_data"
    }
   ],
   "source": [
    "import matplotlib.pyplot as plt\n",
    "\n",
    "for i, feature_name in enumerate(list(df)[2:]):\n",
    "    dat = input_data[:,i]\n",
    "    print(dat)\n",
    "    plt.scatter(dat, yb)\n",
    "    plt.xlabel(feature_name)\n",
    "    plt.ylabel('yb')\n",
    "    plt.savefig(f'yb_distribution_{feature_name}.png')\n",
    "    plt.show()\n",
    "    "
   ]
  },
  {
   "cell_type": "code",
   "execution_count": 110,
   "metadata": {},
   "outputs": [],
   "source": [
    "\n",
    "with open('outliers_pct.txt', 'w') as fp:\n",
    "    for i, fname in enumerate(list(df)[2:]):\n",
    "        r = input_data[:,i]\n",
    "        print(fname, len(r[r == -999]) / float(5682.38), '%', file=fp)"
   ]
  },
  {
   "cell_type": "code",
   "execution_count": null,
   "metadata": {},
   "outputs": [],
   "source": []
  }
 ],
 "metadata": {
  "kernelspec": {
   "display_name": "Python 3",
   "language": "python",
   "name": "python3"
  },
  "language_info": {
   "codemirror_mode": {
    "name": "ipython",
    "version": 3
   },
   "file_extension": ".py",
   "mimetype": "text/x-python",
   "name": "python",
   "nbconvert_exporter": "python",
   "pygments_lexer": "ipython3",
   "version": "3.6.5"
  }
 },
 "nbformat": 4,
 "nbformat_minor": 2
}
