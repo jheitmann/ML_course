{
 "cells": [
  {
   "cell_type": "code",
   "execution_count": 31,
   "metadata": {},
   "outputs": [],
   "source": [
    "from proj1_helpers import load_csv_data, standardize, build_model_data\n",
    "from implementations import split_data, least_squares\n",
    "import numpy as np"
   ]
  },
  {
   "cell_type": "code",
   "execution_count": 46,
   "metadata": {},
   "outputs": [],
   "source": [
    "\n",
    "train_data = 'all/train.csv'\n",
    "test_data = 'all/test.csv'\n",
    "\n",
    "train = load_csv_data(train_data)\n",
    "test = load_csv_data(test_data)\n"
   ]
  },
  {
   "cell_type": "code",
   "execution_count": 142,
   "metadata": {},
   "outputs": [],
   "source": [
    "labels, input_data, ids, features = train\n",
    "_, test_data, test_ids, _ = test"
   ]
  },
  {
   "cell_type": "code",
   "execution_count": 143,
   "metadata": {},
   "outputs": [],
   "source": [
    "def extend_and_standardize(input_data, mean=None, std=None):\n",
    "    if mean is not None and std is not None:\n",
    "        mean_x = mean\n",
    "        std_x = std\n",
    "        tx = (input_data - mean) / std\n",
    "        num_samples = input_data.shape[0]\n",
    "        tx = np.c_[np.ones(num_samples), tx]\n",
    "    else: \n",
    "        x, mean_x, std_x = standardize(input_data)\n",
    "        tx = build_model_data(x)\n",
    "    return tx, mean_x, std_x"
   ]
  },
  {
   "cell_type": "code",
   "execution_count": 144,
   "metadata": {},
   "outputs": [],
   "source": [
    "def model_output(tx, ws, pri_jet_num_idx, clean_features, parameters):\n",
    "    # Conditions\n",
    "    cond_null = tx[:, pri_jet_num_idx] == 0\n",
    "    cond_one = tx[:, pri_jet_num_idx] == 1\n",
    "    cond_plural = tx[:, pri_jet_num_idx] >= 2\n",
    "    conditions = (cond_null, cond_one, cond_plural)\n",
    "    \n",
    "    print(tx.shape)\n",
    "    N = tx.shape[0]\n",
    "    model_output = np.zeros(N)\n",
    "    for pri_jet_num, cond in enumerate(conditions):\n",
    "        select_features = clean_features[pri_jet_num]\n",
    "        reduced_dset = tx[cond][:,select_features]\n",
    "        mean, std = parameters[pri_jet_num]\n",
    "        extended_dset,_,_ = extend_and_standardize(reduced_dset,mean,std)\n",
    "        weight = ws[pri_jet_num]\n",
    "        sub_output = extended_dset.dot(weight)\n",
    "        model_output[cond] = sub_output\n",
    "        \n",
    "    return model_output"
   ]
  },
  {
   "cell_type": "code",
   "execution_count": 145,
   "metadata": {},
   "outputs": [],
   "source": [
    "def compute_predictions(model_output):\n",
    "    predictions = model_output\n",
    "    predictions[predictions > 0.5] = 1\n",
    "    predictions[predictions <= 0.5] = 0\n",
    "    return predictions"
   ]
  },
  {
   "cell_type": "code",
   "execution_count": 146,
   "metadata": {},
   "outputs": [],
   "source": [
    "def compute_accuracy(y, predictions):\n",
    "    N = y.size\n",
    "    accuracy = 1 - (np.count_nonzero(predictions-y)/N)\n",
    "    print(\"Accuracy: {}\".format(accuracy))"
   ]
  },
  {
   "cell_type": "code",
   "execution_count": 186,
   "metadata": {},
   "outputs": [
    {
     "name": "stdout",
     "output_type": "stream",
     "text": [
      "(99913, 17)\n",
      "(77544, 21)\n",
      "(72543, 29)\n",
      "(99913, 18)\n",
      "(77544, 22)\n",
      "(72543, 30)\n"
     ]
    }
   ],
   "source": [
    "\n",
    "training_ratio = 0.8\n",
    "\n",
    "X, y = input_data, labels\n",
    "\n",
    "cond_null = X[:, pri_jet_num_idx] == 0\n",
    "cond_one = X[:, pri_jet_num_idx] == 1\n",
    "cond_plural = X[:, pri_jet_num_idx] >= 2\n",
    "\n",
    "conditions = (cond_null, cond_one, cond_plural)\n",
    "\n",
    "dsets = [X[cond] for cond in conditions]\n",
    "ybs = [y[cond] for cond in conditions]\n",
    "\n",
    "# For now, just remove any column with undefined -999 values. Also, before standardization, remove features with 0 variance.\n",
    "clean_dsets = []\n",
    "clean_features = []\n",
    "\n",
    "for dset in dsets:\n",
    "    no_undefined = np.all(dset != -999, axis = 0)\n",
    "    no_constant = np.any(dset != dset[0], axis = 0)\n",
    "    cleaned = no_undefined * no_constant\n",
    "    clean_dset = dset[:,cleaned]\n",
    "    print(clean_dset.shape)\n",
    "    clean_dsets.append(clean_dset)\n",
    "    clean_features.append(cleaned)\n",
    "    \n",
    "# Standardize and extend data, save mean and standard deviation of each dataset.\n",
    "parameters = []\n",
    "standardized_dsets = []\n",
    "\n",
    "for clean_dset in clean_dsets:\n",
    "    standardized_dset, mean_x, std_x = extend_and_standardize(clean_dset)\n",
    "    standardized_dsets.append(standardized_dset)\n",
    "    print(standardized_dset.shape)\n",
    "    parameters.append((mean_x,std_x))\n"
   ]
  },
  {
   "cell_type": "code",
   "execution_count": 178,
   "metadata": {},
   "outputs": [
    {
     "name": "stdout",
     "output_type": "stream",
     "text": [
      "[(99913, 18), (77544, 22), (72543, 30)]\n"
     ]
    }
   ],
   "source": [
    "print([ds.shape for ds in standardized_dsets])"
   ]
  },
  {
   "cell_type": "code",
   "execution_count": 179,
   "metadata": {},
   "outputs": [
    {
     "name": "stdout",
     "output_type": "stream",
     "text": [
      "(50000, 30)\n",
      "Accuracy: 0.75898\n"
     ]
    }
   ],
   "source": [
    "ws_LS = []\n",
    "# Applies Least Squares to each sub-training-dataset\n",
    "for jet_num, standardized_dset in enumerate(standardized_dsets):\n",
    "    w_LS = least_squares(ybs[jet_num],standardized_dset)\n",
    "    ws_LS.append(w_LS)\n",
    "\n",
    "output_LS = model_output(x_te, ws_LS, pri_jet_num_idx, clean_features, parameters)\n",
    "predictions = compute_predictions(output_LS)\n",
    "compute_accuracy(y_te,predictions)"
   ]
  },
  {
   "cell_type": "code",
   "execution_count": 180,
   "metadata": {},
   "outputs": [
    {
     "name": "stdout",
     "output_type": "stream",
     "text": [
      "[(18,), (22,), (30,)]\n"
     ]
    }
   ],
   "source": [
    "print([w.shape for w in ws_LS])"
   ]
  },
  {
   "cell_type": "code",
   "execution_count": 181,
   "metadata": {},
   "outputs": [
    {
     "name": "stdout",
     "output_type": "stream",
     "text": [
      "[0. 1. 0. ... 0. 1. 0.]\n"
     ]
    }
   ],
   "source": [
    "print(test_data[:,22])"
   ]
  },
  {
   "cell_type": "code",
   "execution_count": 208,
   "metadata": {},
   "outputs": [
    {
     "name": "stdout",
     "output_type": "stream",
     "text": [
      "0 (30,)\n",
      "[ 2.55141974e-01 -1.14327786e-01  2.92032830e-01 -2.06856600e+02\n",
      " -3.39727728e-01  1.75264955e+02  2.48960030e+00 -1.00065629e-02\n",
      " -1.74626589e-02 -1.42156633e+00  2.32335324e-04  1.05152955e-04\n",
      " -1.07162079e+00 -1.27866726e-03 -2.58919049e-05  1.11174849e-02\n",
      " -2.96344927e-03 -1.46887342e-02]\n",
      "1 (18,)\n",
      "[ 3.57345507e-01 -5.80370792e-02 -2.10528322e-02  4.73350789e-03\n",
      " -5.21623912e-02 -2.00161890e-02  2.74212958e+01 -3.46264929e-02\n",
      " -6.54494250e-02 -1.41918856e+01 -2.87959151e-03 -2.94046854e-03\n",
      "  1.43933958e+01  4.56156432e-04  5.22096423e-04 -2.26407872e-02\n",
      " -1.28844911e-03  5.05765526e-03 -1.21559323e+03 -3.51792604e-04\n",
      " -8.46532924e-04 -4.48803489e+02]\n",
      "0 (22,)\n"
     ]
    },
    {
     "ename": "ValueError",
     "evalue": "operands could not be broadcast together with shapes (18,) (30,) ",
     "output_type": "error",
     "traceback": [
      "\u001b[1;31m---------------------------------------------------------------------------\u001b[0m",
      "\u001b[1;31mValueError\u001b[0m                                Traceback (most recent call last)",
      "\u001b[1;32m<ipython-input-208-a34acee51da0>\u001b[0m in \u001b[0;36m<module>\u001b[1;34m\u001b[0m\n\u001b[0;32m     10\u001b[0m     \u001b[0maug_clean_vector\u001b[0m \u001b[1;33m=\u001b[0m \u001b[0mnp\u001b[0m\u001b[1;33m.\u001b[0m\u001b[0mconcatenate\u001b[0m\u001b[1;33m(\u001b[0m\u001b[1;33m(\u001b[0m\u001b[0mnp\u001b[0m\u001b[1;33m.\u001b[0m\u001b[0marray\u001b[0m\u001b[1;33m(\u001b[0m\u001b[1;33m[\u001b[0m\u001b[1;32mTrue\u001b[0m\u001b[1;33m]\u001b[0m\u001b[1;33m)\u001b[0m\u001b[1;33m,\u001b[0m \u001b[0mclean_features\u001b[0m\u001b[1;33m[\u001b[0m\u001b[0mi\u001b[0m\u001b[1;33m]\u001b[0m\u001b[1;33m)\u001b[0m\u001b[1;33m)\u001b[0m\u001b[1;33m\u001b[0m\u001b[0m\n\u001b[0;32m     11\u001b[0m     \u001b[0mclean_sample\u001b[0m \u001b[1;33m=\u001b[0m \u001b[0msample\u001b[0m\u001b[1;33m[\u001b[0m\u001b[0maug_clean_vector\u001b[0m\u001b[1;33m]\u001b[0m\u001b[1;33m\u001b[0m\u001b[0m\n\u001b[1;32m---> 12\u001b[1;33m     \u001b[0mcalc\u001b[0m \u001b[1;33m=\u001b[0m \u001b[0mws_LS\u001b[0m\u001b[1;33m[\u001b[0m\u001b[0mjet\u001b[0m\u001b[1;33m]\u001b[0m \u001b[1;33m*\u001b[0m \u001b[0mclean_sample\u001b[0m\u001b[1;33m\u001b[0m\u001b[0m\n\u001b[0m\u001b[0;32m     13\u001b[0m \u001b[1;33m\u001b[0m\u001b[0m\n\u001b[0;32m     14\u001b[0m     \u001b[0mprint\u001b[0m\u001b[1;33m(\u001b[0m\u001b[0mcalc\u001b[0m\u001b[1;33m)\u001b[0m\u001b[1;33m\u001b[0m\u001b[0m\n",
      "\u001b[1;31mValueError\u001b[0m: operands could not be broadcast together with shapes (18,) (30,) "
     ]
    }
   ],
   "source": [
    "\n",
    "#print(sum([b for b in clean_features[0]]))\n",
    "test_X, _, _ = extend_and_standardize(test_data)\n",
    "\n",
    "for i, sample in enumerate(test_X):\n",
    "    if i > 5:break\n",
    "    jet = 2 if test_data[i,22] >= 2. else int(test_data[i,22])\n",
    "        \n",
    "    print(jet, clean_sample.shape)\n",
    "    aug_clean_vector = np.concatenate((np.array([True]), clean_features[i]))\n",
    "    clean_sample = sample[aug_clean_vector]\n",
    "    calc = ws_LS[jet] * clean_sample    \n",
    "        \n",
    "    print(calc)\n"
   ]
  },
  {
   "cell_type": "code",
   "execution_count": null,
   "metadata": {},
   "outputs": [],
   "source": []
  },
  {
   "cell_type": "code",
   "execution_count": null,
   "metadata": {},
   "outputs": [],
   "source": []
  }
 ],
 "metadata": {
  "kernelspec": {
   "display_name": "Python 3",
   "language": "python",
   "name": "python3"
  },
  "language_info": {
   "codemirror_mode": {
    "name": "ipython",
    "version": 3
   },
   "file_extension": ".py",
   "mimetype": "text/x-python",
   "name": "python",
   "nbconvert_exporter": "python",
   "pygments_lexer": "ipython3",
   "version": "3.6.5"
  }
 },
 "nbformat": 4,
 "nbformat_minor": 2
}
