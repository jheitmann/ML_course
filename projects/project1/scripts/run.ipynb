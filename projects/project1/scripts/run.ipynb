{
 "cells": [
  {
   "cell_type": "code",
   "execution_count": 25,
   "metadata": {},
   "outputs": [],
   "source": [
    "from benchmark_methods import model_output, compute_predictions, logistic_predictions\n",
    "from proj1_helpers import load_csv_data\n",
    "import numpy as np"
   ]
  },
  {
   "cell_type": "code",
   "execution_count": 19,
   "metadata": {},
   "outputs": [],
   "source": [
    "test_data = 'all/test.csv'\n",
    "test = load_csv_data(test_data)"
   ]
  },
  {
   "cell_type": "code",
   "execution_count": 20,
   "metadata": {},
   "outputs": [],
   "source": [
    "weights_path = 'all/weights.npy'\n",
    "weights = np.load(weights_path)\n",
    "\n",
    "clean_features_path = 'all/clean_features.npy'\n",
    "clean_features = np.load(clean_features_path)\n",
    "\n",
    "parameters_path = 'all/parameters.npy'\n",
    "parameters = np.load(parameters_path)"
   ]
  },
  {
   "cell_type": "code",
   "execution_count": 21,
   "metadata": {},
   "outputs": [],
   "source": [
    "_, test_data, test_ids, _ = test"
   ]
  },
  {
   "cell_type": "code",
   "execution_count": 22,
   "metadata": {},
   "outputs": [],
   "source": [
    "out = model_output(test_data, weights, 22, clean_features, parameters)"
   ]
  },
  {
   "cell_type": "code",
   "execution_count": 23,
   "metadata": {},
   "outputs": [
    {
     "name": "stdout",
     "output_type": "stream",
     "text": [
      "(568238,)\n"
     ]
    }
   ],
   "source": [
    "print(out.shape)"
   ]
  },
  {
   "cell_type": "code",
   "execution_count": 28,
   "metadata": {},
   "outputs": [
    {
     "name": "stdout",
     "output_type": "stream",
     "text": [
      "(568238,) [0. 0. 0. ... 0. 0. 0.]\n"
     ]
    }
   ],
   "source": [
    "pred = logistic_predictions(out)\n",
    "print(pred.shape, pred)"
   ]
  },
  {
   "cell_type": "markdown",
   "metadata": {},
   "source": [
    "## Serializing resulta in csv"
   ]
  },
  {
   "cell_type": "code",
   "execution_count": 30,
   "metadata": {},
   "outputs": [],
   "source": [
    "import csv"
   ]
  },
  {
   "cell_type": "code",
   "execution_count": 42,
   "metadata": {},
   "outputs": [
    {
     "name": "stdout",
     "output_type": "stream",
     "text": [
      "Done: 0\n",
      "Done: 100000\n",
      "Done: 200000\n",
      "Done: 300000\n",
      "Done: 400000\n",
      "Done: 500000\n"
     ]
    }
   ],
   "source": [
    "with open('results.csv', 'w', newline='\\n', encoding='utf-8') as fp:\n",
    "    writer = csv.writer(fp)\n",
    "\n",
    "    for i, id in enumerate(test_ids):\n",
    "        if not i % 100000: print('Done:', i)\n",
    "        writer.writerow([id, 's' if pred[i] else 'b'])"
   ]
  },
  {
   "cell_type": "code",
   "execution_count": null,
   "metadata": {},
   "outputs": [],
   "source": []
  }
 ],
 "metadata": {
  "kernelspec": {
   "display_name": "Python 3",
   "language": "python",
   "name": "python3"
  },
  "language_info": {
   "codemirror_mode": {
    "name": "ipython",
    "version": 3
   },
   "file_extension": ".py",
   "mimetype": "text/x-python",
   "name": "python",
   "nbconvert_exporter": "python",
   "pygments_lexer": "ipython3",
   "version": "3.6.6"
  }
 },
 "nbformat": 4,
 "nbformat_minor": 2
}
